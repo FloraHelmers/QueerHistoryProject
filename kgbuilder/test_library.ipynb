{
 "cells": [
  {
   "cell_type": "markdown",
   "metadata": {},
   "source": [
    "Introduction to KG Builder Notebook\n",
    "==============\n",
    "\n",
    "KG Builder is a library that we have developed to build three pipelines for knowledge creation (extracting data mainly from Wikidata). The knowledge graphs created can then be used for various purposes such as data analysis, machine learning, and knowledge management. For more information, please refer to the paper *Strategies for creating knowledge graphs to depict a multi-perspective Queer communities representation* present alongside this notebook.\n",
    "\n",
    "The three pipelines that we have created using KG Builder are:\n",
    "\n",
    "-**Pure SPARQL**\n",
    "\n",
    "-**Star Merging**\n",
    "\n",
    "-**Crawler**\n",
    "\n",
    "In this notebook, we will describe each of these pipelines in detail and provide examples of how they can be used. We will also demonstrate how to use KG Builder to clean, handle, visualize and analyse the knowledge graphs. Overall, this notebook aims to provide a comprehensive guide to using KG Builder for knowledge creation using Wikidata."
   ]
  },
  {
   "cell_type": "markdown",
   "metadata": {},
   "source": [
    "# Installing the dependencies\n",
    "\n",
    "Due to the visualization tools used, specific versions of networkx and scipy are required"
   ]
  },
  {
   "cell_type": "code",
   "execution_count": 1,
   "metadata": {
    "id": "GE7Uaa83wUbv"
   },
   "outputs": [
    {
     "name": "stdout",
     "output_type": "stream",
     "text": [
      "Requirement already satisfied: pip in /home/diens/anaconda3/lib/python3.7/site-packages (23.0.1)\n",
      "Requirement already satisfied: rdflib in /home/diens/anaconda3/lib/python3.7/site-packages (6.2.0)\n",
      "Requirement already satisfied: isodate in /home/diens/anaconda3/lib/python3.7/site-packages (from rdflib) (0.6.1)\n",
      "Requirement already satisfied: importlib-metadata in /home/diens/anaconda3/lib/python3.7/site-packages (from rdflib) (4.11.3)\n",
      "Requirement already satisfied: pyparsing in /home/diens/anaconda3/lib/python3.7/site-packages (from rdflib) (2.4.6)\n",
      "Requirement already satisfied: setuptools in /home/diens/anaconda3/lib/python3.7/site-packages (from rdflib) (45.2.0.post20200210)\n",
      "Requirement already satisfied: typing-extensions>=3.6.4 in /home/diens/anaconda3/lib/python3.7/site-packages (from importlib-metadata->rdflib) (3.10.0.2)\n",
      "Requirement already satisfied: zipp>=0.5 in /home/diens/anaconda3/lib/python3.7/site-packages (from importlib-metadata->rdflib) (2.2.0)\n",
      "Requirement already satisfied: six in /home/diens/anaconda3/lib/python3.7/site-packages (from isodate->rdflib) (1.14.0)\n",
      "Requirement already satisfied: datashader in /home/diens/anaconda3/lib/python3.7/site-packages (0.14.4)\n",
      "Requirement already satisfied: pandas in /home/diens/anaconda3/lib/python3.7/site-packages (from datashader) (1.3.5)\n",
      "Requirement already satisfied: toolz in /home/diens/anaconda3/lib/python3.7/site-packages (from datashader) (0.10.0)\n",
      "Requirement already satisfied: datashape in /home/diens/anaconda3/lib/python3.7/site-packages (from datashader) (0.5.2)\n",
      "Requirement already satisfied: pillow in /home/diens/anaconda3/lib/python3.7/site-packages (from datashader) (9.1.0)\n",
      "Requirement already satisfied: requests in /home/diens/anaconda3/lib/python3.7/site-packages (from datashader) (2.26.0)\n",
      "Requirement already satisfied: scipy in /home/diens/anaconda3/lib/python3.7/site-packages (from datashader) (1.7.3)\n",
      "Requirement already satisfied: dask in /home/diens/anaconda3/lib/python3.7/site-packages (from datashader) (2.11.0)\n",
      "Requirement already satisfied: colorcet in /home/diens/anaconda3/lib/python3.7/site-packages (from datashader) (3.0.1)\n",
      "Requirement already satisfied: pyct in /home/diens/anaconda3/lib/python3.7/site-packages (from datashader) (0.5.0)\n",
      "Requirement already satisfied: param in /home/diens/anaconda3/lib/python3.7/site-packages (from datashader) (1.13.0)\n",
      "Requirement already satisfied: numpy in /home/diens/anaconda3/lib/python3.7/site-packages (from datashader) (1.21.6)\n",
      "Requirement already satisfied: xarray in /home/diens/anaconda3/lib/python3.7/site-packages (from datashader) (0.20.2)\n",
      "Requirement already satisfied: numba>=0.51 in /home/diens/anaconda3/lib/python3.7/site-packages (from datashader) (0.56.4)\n",
      "Requirement already satisfied: llvmlite<0.40,>=0.39.0dev0 in /home/diens/anaconda3/lib/python3.7/site-packages (from numba>=0.51->datashader) (0.39.1)\n",
      "Requirement already satisfied: importlib-metadata in /home/diens/anaconda3/lib/python3.7/site-packages (from numba>=0.51->datashader) (4.11.3)\n",
      "Requirement already satisfied: setuptools in /home/diens/anaconda3/lib/python3.7/site-packages (from numba>=0.51->datashader) (45.2.0.post20200210)\n",
      "Requirement already satisfied: python-dateutil in /home/diens/anaconda3/lib/python3.7/site-packages (from datashape->datashader) (2.8.1)\n",
      "Requirement already satisfied: multipledispatch>=0.4.7 in /home/diens/anaconda3/lib/python3.7/site-packages (from datashape->datashader) (0.6.0)\n",
      "Requirement already satisfied: pytz>=2017.3 in /home/diens/anaconda3/lib/python3.7/site-packages (from pandas->datashader) (2019.3)\n",
      "Requirement already satisfied: certifi>=2017.4.17 in /home/diens/anaconda3/lib/python3.7/site-packages (from requests->datashader) (2019.11.28)\n",
      "Requirement already satisfied: urllib3<1.27,>=1.21.1 in /home/diens/anaconda3/lib/python3.7/site-packages (from requests->datashader) (1.26.7)\n",
      "Requirement already satisfied: charset-normalizer~=2.0.0 in /home/diens/anaconda3/lib/python3.7/site-packages (from requests->datashader) (2.0.7)\n",
      "Requirement already satisfied: idna<4,>=2.5 in /home/diens/anaconda3/lib/python3.7/site-packages (from requests->datashader) (2.8)\n",
      "Requirement already satisfied: typing-extensions>=3.7 in /home/diens/anaconda3/lib/python3.7/site-packages (from xarray->datashader) (3.10.0.2)\n",
      "Requirement already satisfied: six in /home/diens/anaconda3/lib/python3.7/site-packages (from multipledispatch>=0.4.7->datashape->datashader) (1.14.0)\n",
      "Requirement already satisfied: zipp>=0.5 in /home/diens/anaconda3/lib/python3.7/site-packages (from importlib-metadata->numba>=0.51->datashader) (2.2.0)\n",
      "Collecting networkx==2.6\n",
      "  Using cached networkx-2.6-py3-none-any.whl (1.9 MB)\n",
      "\u001b[31mERROR: Ignored the following versions that require a different python version: 1.10.0 Requires-Python <3.12,>=3.8; 1.10.0rc1 Requires-Python <3.12,>=3.8; 1.10.0rc2 Requires-Python <3.12,>=3.8; 1.10.1 Requires-Python <3.12,>=3.8; 1.8.0 Requires-Python >=3.8,<3.11; 1.8.0rc1 Requires-Python >=3.8,<3.11; 1.8.0rc2 Requires-Python >=3.8,<3.11; 1.8.0rc3 Requires-Python >=3.8,<3.11; 1.8.0rc4 Requires-Python >=3.8,<3.11; 1.8.1 Requires-Python >=3.8,<3.11; 1.9.0 Requires-Python >=3.8,<3.12; 1.9.0rc1 Requires-Python >=3.8,<3.12; 1.9.0rc2 Requires-Python >=3.8,<3.12; 1.9.0rc3 Requires-Python >=3.8,<3.12; 1.9.1 Requires-Python >=3.8,<3.12; 1.9.2 Requires-Python >=3.8; 1.9.3 Requires-Python >=3.8; 2.7 Requires-Python >=3.8; 2.7.1 Requires-Python >=3.8; 2.7rc1 Requires-Python >=3.8; 2.8 Requires-Python >=3.8; 2.8.1 Requires-Python >=3.8; 2.8.1rc1 Requires-Python >=3.8; 2.8.2 Requires-Python >=3.8; 2.8.3 Requires-Python >=3.8; 2.8.4 Requires-Python >=3.8; 2.8.5 Requires-Python >=3.8; 2.8.6 Requires-Python >=3.8; 2.8.7 Requires-Python >=3.8; 2.8.8 Requires-Python >=3.8; 2.8rc1 Requires-Python >=3.8; 3.0 Requires-Python >=3.8; 3.0b1 Requires-Python >=3.8; 3.0rc1 Requires-Python >=3.8\u001b[0m\u001b[31m\n",
      "\u001b[0m\u001b[31mERROR: Could not find a version that satisfies the requirement scipy==1.8.0 (from versions: 0.8.0, 0.9.0, 0.10.0, 0.10.1, 0.11.0, 0.12.0, 0.12.1, 0.13.0, 0.13.1, 0.13.2, 0.13.3, 0.14.0, 0.14.1, 0.15.0, 0.15.1, 0.16.0, 0.16.1, 0.17.0, 0.17.1, 0.18.0, 0.18.1, 0.19.0, 0.19.1, 1.0.0, 1.0.1, 1.1.0, 1.2.0, 1.2.1, 1.2.2, 1.2.3, 1.3.0, 1.3.1, 1.3.2, 1.3.3, 1.4.0, 1.4.1, 1.5.0, 1.5.1, 1.5.2, 1.5.3, 1.5.4, 1.6.0, 1.6.1, 1.6.2, 1.6.3, 1.7.0rc1, 1.7.0rc2, 1.7.0, 1.7.1, 1.7.2, 1.7.3)\u001b[0m\u001b[31m\n",
      "\u001b[0m\u001b[31mERROR: No matching distribution found for scipy==1.8.0\u001b[0m\u001b[31m\n",
      "\u001b[0m"
     ]
    }
   ],
   "source": [
    "!pip install -U pip\n",
    "!pip install rdflib\n",
    "!pip install datashader\n",
    "\n",
    "!pip install --upgrade networkx==2.6 scipy==1.8.0"
   ]
  },
  {
   "cell_type": "code",
   "execution_count": 1,
   "metadata": {
    "id": "Ahnde87wwuG9"
   },
   "outputs": [],
   "source": [
    "import datashader.transfer_functions as tf"
   ]
  },
  {
   "cell_type": "code",
   "execution_count": 2,
   "metadata": {},
   "outputs": [],
   "source": [
    "from queries import *\n",
    "from visuals import create_plot_graph_force_directed"
   ]
  },
  {
   "cell_type": "markdown",
   "metadata": {},
   "source": [
    "# Star Merging Pipeline\n",
    "\n",
    "This pipeline starts with a SPARQL query to Wikidata that returns a list of Wikidata item IDs that are related to the queer community.This list is then used to create a merged RDF graph using the RDF data of the nodes from the Wikidata entity URLs in ntriples format. This merged graph is then converted to a NetworkX multidigraph that is then pruned and cleaned in various ways."
   ]
  },
  {
   "cell_type": "code",
   "execution_count": 3,
   "metadata": {},
   "outputs": [
    {
     "name": "stdout",
     "output_type": "stream",
     "text": [
      "Help on function star_merging_pipeline in module star_merging:\n",
      "\n",
      "star_merging_pipeline(n, query, prune_policy)\n",
      "    This function performs a star merging pipeline with the given parameters.\n",
      "    \n",
      "    Args:\n",
      "        n (int): The number of items to retrieve from the SPARQL query.\n",
      "        query (str): The SPARQL query string to use.\n",
      "        prune_policy (str): The policy to use for pruning the merged graph.\n",
      "    \n",
      "    Returns:\n",
      "        tuple: A tuple containing the merged graph and the list of items retrieved from the SPARQL query.\n",
      "\n"
     ]
    }
   ],
   "source": [
    "from star_merging import star_merging_pipeline\n",
    "\n",
    "help(star_merging_pipeline)"
   ]
  },
  {
   "cell_type": "code",
   "execution_count": 4,
   "metadata": {
    "id": "Aq4jWqh7xEFf"
   },
   "outputs": [],
   "source": [
    "prune_policy=['deadend','apply','isolated','apply']\n",
    "G,l=star_merging_pipeline(15, query_queer_world, prune_policy)"
   ]
  },
  {
   "cell_type": "code",
   "execution_count": 5,
   "metadata": {},
   "outputs": [
    {
     "data": {
      "text/html": [
       "<table style=\"width:100%; text-align: center\"><tbody><tr style=\"background-color:white\"><td style=\"text-align: center\"><b>Force-directed</b><br><br><img style=\"margin: auto; border:1px solid\" src='data:image/png;base64,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'/></td></tr><tr style=\"background-color:white\"></tr></tbody></table>"
      ],
      "text/plain": [
       "<datashader.transfer_functions.Images at 0x7fb0eea32710>"
      ]
     },
     "execution_count": 5,
     "metadata": {},
     "output_type": "execute_result"
    }
   ],
   "source": [
    "image=create_plot_graph_force_directed(G)\n",
    "tf.Images(image).cols(1)"
   ]
  },
  {
   "cell_type": "markdown",
   "metadata": {},
   "source": [
    "# Crawler\n",
    "\n",
    "In contrast to the global approach of the previous pipelines, this pipeline starts with a small number of nodes and runs an iterative process to extract important nodes that represent properties of interest (potential common points) and use those to explore and discover more queer people and communities. This pipeline runs with a PageRank algorithm on an initial set of nodes. The PageRank algorithm is run multiple times with different parameters, such as the damping factor (alpha) and the number of iterations. After the PageRank algorithm has been run, the pipeline selects a certain number of the most important nodes (k_prop) and uses them to explore further. Specifically, it runs the same SPARQL query as before, but this time using the selected nodes as the property of interest. The result is a new set of nodes that are connected to the previously selected nodes through the property of interest. These new nodes are added to the original graph, and the process repeats."
   ]
  },
  {
   "cell_type": "code",
   "execution_count": 6,
   "metadata": {},
   "outputs": [
    {
     "name": "stdout",
     "output_type": "stream",
     "text": [
      "Help on function crawler_process in module crawler:\n",
      "\n",
      "crawler_process(G, n_iter, k_prop, n_incr, policy, n_max=None, people_list=[], alpha=0.85, pagerank_iter=100)\n",
      "    A function that crawls Wikidata for information about people based on their properties.\n",
      "    \n",
      "    Args:\n",
      "        G (networkx graph): the starting graph\n",
      "        n_iter (int): the number of iterations to run the crawler for\n",
      "        k_prop (int): the number of properties to explore at each iteration\n",
      "        n_incr (int): the number of new people to query Wikidata for each time a property is explored\n",
      "        policy (str): the policy to use when querying Wikidata for new people (either \"wd\" or \"spdq\")\n",
      "        n_max (int): the maximum number of people to crawl for\n",
      "        people_list (list): the list of people already found\n",
      "        alpha (float): the damping factor to use when computing PageRank\n",
      "        pagerank_iter (int): the number of iterations to use when computing PageRank\n",
      "    \n",
      "    Returns:\n",
      "        G (networkx graph): the final graph\n",
      "        people_list (list): the list of people found during the crawling process\n",
      "\n"
     ]
    }
   ],
   "source": [
    "from crawler import *\n",
    "\n",
    "help(crawler_process)"
   ]
  },
  {
   "cell_type": "code",
   "execution_count": 7,
   "metadata": {
    "colab": {
     "base_uri": "https://localhost:8080/"
    },
    "id": "qCT9c1IQ-ylK",
    "outputId": "15f5b00a-ca2c-4670-dcec-739f463f907a"
   },
   "outputs": [],
   "source": [
    "prune_policy=['deadend','apply','isolated','apply']\n",
    "G,l=star_merging_pipeline(2, query_queer_world, prune_policy)"
   ]
  },
  {
   "cell_type": "code",
   "execution_count": null,
   "metadata": {},
   "outputs": [
    {
     "name": "stdout",
     "output_type": "stream",
     "text": [
      "[rdflib.term.URIRef('http://www.wikidata.org/entity/Q21401824')]\n",
      "[rdflib.term.URIRef('http://www.wikidata.org/entity/Q145')]\n",
      "[rdflib.term.URIRef('http://www.wikidata.org/entity/Q11920')]\n",
      "[rdflib.term.URIRef('http://www.wikidata.org/entity/Q29861311')]\n"
     ]
    }
   ],
   "source": [
    "new_G,new_l=crawler_process(G, 20, 1, 5, prune_policy, n_max=15, people_list=l)"
   ]
  },
  {
   "cell_type": "code",
   "execution_count": null,
   "metadata": {
    "colab": {
     "base_uri": "https://localhost:8080/",
     "height": 466
    },
    "id": "tlQDe55FcWe0",
    "outputId": "d0bd9de8-71fb-4807-af76-46b87cbeb2c9"
   },
   "outputs": [],
   "source": [
    "image=create_plot_graph_force_directed(new_G)\n",
    "tf.Images(image).cols(1)"
   ]
  },
  {
   "cell_type": "markdown",
   "metadata": {},
   "source": [
    "# More Graph Visualization"
   ]
  },
  {
   "cell_type": "markdown",
   "metadata": {},
   "source": [
    "## Layout and edge-bundling\n",
    "\n",
    "The layout of the nodes can heavily influence the visual representation of the graph, we favored the force-directed layout. Additionally, we also implemented some edge-bundling which is a method that allows edges to curve and then group nearby ones together to help convey structure"
   ]
  },
  {
   "cell_type": "code",
   "execution_count": null,
   "metadata": {},
   "outputs": [],
   "source": [
    "from visuals import create_plot_graph_force_directed_bundled\n",
    "\n",
    "prune_policy=['deadend','apply','isolated','apply']\n",
    "smallG,small_l=star_merging_pipeline(7, query_queer_world, prune_policy)"
   ]
  },
  {
   "cell_type": "code",
   "execution_count": null,
   "metadata": {},
   "outputs": [],
   "source": [
    "from visuals import create_plot_graph_force_directed_bundled\n",
    "\n",
    "image=create_plot_graph_force_directed_bundled(smallG)\n",
    "tf.Images(image).cols(1)"
   ]
  },
  {
   "cell_type": "markdown",
   "metadata": {},
   "source": [
    "## Pruning process"
   ]
  },
  {
   "cell_type": "code",
   "execution_count": null,
   "metadata": {},
   "outputs": [],
   "source": [
    "#without anything removed\n",
    "smallG,small_l=star_merging_pipeline(7, query_queer_world, [])\n",
    "image=create_plot_graph_force_directed(smallG)\n",
    "tf.Images(image).cols(1)"
   ]
  },
  {
   "cell_type": "code",
   "execution_count": null,
   "metadata": {},
   "outputs": [],
   "source": [
    "#without the isolated nodes removed\n",
    "smallG,small_l=star_merging_pipeline(7, query_queer_world, ['deadend','apply'])\n",
    "image=create_plot_graph_force_directed(smallG)\n",
    "tf.Images(image).cols(1)"
   ]
  },
  {
   "cell_type": "markdown",
   "metadata": {},
   "source": [
    "# Graph Analysis"
   ]
  },
  {
   "cell_type": "code",
   "execution_count": null,
   "metadata": {},
   "outputs": [],
   "source": [
    "from stats import graph_summary,node_summary\n",
    "\n",
    "graph_summary(new_G)"
   ]
  },
  {
   "cell_type": "code",
   "execution_count": null,
   "metadata": {},
   "outputs": [],
   "source": [
    "import random\n",
    "\n",
    "random_node = random.choice(list(G.nodes()))\n",
    "\n",
    "node_summary(new_G,random_node)"
   ]
  },
  {
   "cell_type": "markdown",
   "metadata": {},
   "source": [
    "# Exporting the graph\n",
    "\n",
    "This was also very useful because we had to fragment the merging into 8 different graphs when evaluating for the entirety of the queer people with data on wikidata."
   ]
  },
  {
   "cell_type": "code",
   "execution_count": null,
   "metadata": {
    "id": "PDZxUrHwRlw4"
   },
   "outputs": [],
   "source": [
    "from networkx.readwrite import json_graph\n",
    "import json\n",
    "\n",
    "g_json=json_graph.node_link_data(G)\n",
    "json.dump(g_json,open(\"graph.json\",\"w\"))"
   ]
  }
 ],
 "metadata": {
  "colab": {
   "provenance": []
  },
  "kernelspec": {
   "display_name": "Python 3",
   "language": "python",
   "name": "python3"
  },
  "language_info": {
   "codemirror_mode": {
    "name": "ipython",
    "version": 3
   },
   "file_extension": ".py",
   "mimetype": "text/x-python",
   "name": "python",
   "nbconvert_exporter": "python",
   "pygments_lexer": "ipython3",
   "version": "3.7.6"
  }
 },
 "nbformat": 4,
 "nbformat_minor": 1
}
