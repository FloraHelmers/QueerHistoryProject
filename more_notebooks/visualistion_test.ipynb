{
  "nbformat": 4,
  "nbformat_minor": 0,
  "metadata": {
    "colab": {
      "provenance": []
    },
    "kernelspec": {
      "name": "python3",
      "display_name": "Python 3"
    },
    "language_info": {
      "name": "python"
    }
  },
  "cells": [
    {
      "cell_type": "code",
      "execution_count": null,
      "metadata": {
        "id": "ZR9ht166gce-"
      },
      "outputs": [],
      "source": [
        "# -*- coding: utf-8 -*-\n",
        "import dash\n",
        "\n",
        "from dash import dcc\n",
        "from dash import html\n",
        "import networkx as nx\n",
        "import plotly.graph_objs as go\n",
        "\n",
        "import pandas as pd\n",
        "import matplotlib.pyplot as plt\n",
        "from colour import Color\n",
        "from datetime import datetime\n",
        "from textwrap import dedent as d\n",
        "import json\n"
      ]
    },
    {
      "cell_type": "code",
      "source": [
        "  external_stylesheets = ['https://codepen.io/chriddyp/pen/bWLwgP.css']\n",
        "  app = dash.Dash(__name__, external_stylesheets=external_stylesheets)\n",
        "  app.title = \"Visualization\"\n",
        "\n",
        "\n"
      ],
      "metadata": {
        "id": "2y4EhwWog1V1"
      },
      "execution_count": null,
      "outputs": []
    },
    {
      "cell_type": "code",
      "source": [
        "\n",
        "  ##############################################################################################################################################################\n",
        "\n",
        "  def draw_graph(nx_graph):\n",
        "      fig, axes = plt.subplots(1,1,dpi=72)\n",
        "      nx.draw(nx_graph, pos=nx.spring_layout(nx_graph), ax=axes, with_labels=True)\n",
        "      plt.show()\n",
        "      return fig\n",
        "      \n",
        "\n"
      ],
      "metadata": {
        "id": "NKO1kl-fg3vJ"
      },
      "execution_count": null,
      "outputs": []
    },
    {
      "cell_type": "code",
      "source": [
        "\n",
        "  def create():\n",
        "    #nodes = pd.read_csv('cocteau_nodes.csv')\n",
        "    nodes = pd.read_csv('node1.csv')\n",
        "    #nodes = nodes.drop(columns=['Unnamed: 0', 'Unnamed: 0.1','Unnamed: 0.1.1','to_keep','to_keep2'])\n",
        "    #node ,rdf_type, is_wikidata , itemLabel ,data_type , degree\n",
        "\n",
        "    #edges = pd.read_csv('cocteau_edges.csv')\n",
        "    edges = pd.read_csv('edge1.csv')\n",
        "    #edegs = edges.drop(columns=['Unnamed: 0'])\n",
        "\n",
        "    new_graph = nx.from_pandas_edgelist(edges, source=\"Source\", target=\"Target\", edge_attr=True)\n",
        "    \n",
        "    traceRecode= []\n",
        "    \n",
        "    node_trace1 = go.Scatter(x=tuple([1]), y=tuple([1]),\n",
        "                                  mode='markers',\n",
        "                                  marker={'size': 50, 'color': 'LightSkyBlue'},\n",
        "                                  opacity=0)\n",
        "    traceRecode.append(node_trace1)\n",
        "    \n",
        "    figure = {\n",
        "              \"data\": traceRecode,\n",
        "              \"layout\": go.Layout(title=' Visualization', showlegend=True,\n",
        "                                  margin={'b': 40, 'l': 40, 'r': 40, 't': 40},\n",
        "                                  xaxis={'showgrid': False, 'zeroline': False, 'showticklabels': False},\n",
        "                                  yaxis={'showgrid': False, 'zeroline': False, 'showticklabels': False},\n",
        "                                  height=600\n",
        "                                  )}\n",
        "                                \n",
        "    return figure\n"
      ],
      "metadata": {
        "id": "aWa_scZXg6xu"
      },
      "execution_count": null,
      "outputs": []
    },
    {
      "cell_type": "code",
      "source": [
        "\n",
        "  # styles: for right side hover/click component\n",
        "  styles = {\n",
        "      'pre': {\n",
        "          'border': 'thin lightgrey solid',\n",
        "          'overflowX': 'scroll'\n",
        "      }\n",
        "  }\n",
        "\n",
        "  app.layout = html.Div([\n",
        "      #########################Title\n",
        "      html.Div([html.H1(\"Visualization knowledge Graph\")],\n",
        "              className=\"row\",\n",
        "              style={'textAlign': \"center\"}),\n",
        "      html.Div(\n",
        "      className=\"eight columns\",\n",
        "                  children=[dcc.Graph(id=\"my-graph\",\n",
        "                                    figure = create()\n",
        "                                    )],\n",
        "              ),\n",
        "      \n",
        "\n",
        "  ]\n",
        "  )\n",
        "\n",
        "\n"
      ],
      "metadata": {
        "id": "dZEjEmQihBOS"
      },
      "execution_count": null,
      "outputs": []
    },
    {
      "cell_type": "code",
      "source": [
        "\n",
        "  if __name__ == '__main__':\n",
        "      app.run_server(debug=True)"
      ],
      "metadata": {
        "id": "VDnJi68ShC3t"
      },
      "execution_count": null,
      "outputs": []
    }
  ]
}