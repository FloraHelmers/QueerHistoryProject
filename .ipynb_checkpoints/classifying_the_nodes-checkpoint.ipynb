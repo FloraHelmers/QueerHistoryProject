{
 "cells": [
  {
   "cell_type": "code",
   "execution_count": 1,
   "id": "0f01a351-9300-443f-ae8e-f90ac7581501",
   "metadata": {},
   "outputs": [],
   "source": [
    "import rdflib\n",
    "from rdflib import Graph\n",
    "from rdflib.extras.external_graph_libs import rdflib_to_networkx_multidigraph\n",
    "import networkx as nx\n",
    "import matplotlib.pyplot as plt\n",
    "\n",
    "import requests\n",
    "import json"
   ]
  },
  {
   "cell_type": "code",
   "execution_count": 27,
   "id": "22f382d4-c3fc-4657-beb7-c60bf414598e",
   "metadata": {},
   "outputs": [],
   "source": [
    "import pandas as pd \n",
    "import networkx as nx\n",
    "import nx_altair as nxa\n",
    "import altair as alt\n",
    "from tqdm.notebook import tqdm"
   ]
  },
  {
   "cell_type": "code",
   "execution_count": 21,
   "id": "c6dff723-1edf-4dc5-b439-fae8aa4f461e",
   "metadata": {},
   "outputs": [],
   "source": [
    "ask_query = \"\"\"ASK {\n",
    "      wd:Q34201 p:P31 ?statement0.\n",
    "      ?statement0 (ps:P31/(wdt:P279*)) wd:Q215627.\n",
    " }\"\"\"\n",
    "\n",
    "\n",
    "endpoint_url = \"https://query.wikidata.org/sparql\"\n",
    "headers = {'User-Agent': 'MyBot'}\n",
    "payload = {\n",
    "        'query': ask_query,\n",
    "        'format': 'json'\n",
    "    }\n",
    "r = requests.get(endpoint_url, params=payload, headers=headers)"
   ]
  },
  {
   "cell_type": "code",
   "execution_count": 24,
   "id": "cab1855e-3541-46b6-8e22-00130f40686b",
   "metadata": {},
   "outputs": [
    {
     "data": {
      "text/plain": [
       "200"
      ]
     },
     "execution_count": 24,
     "metadata": {},
     "output_type": "execute_result"
    }
   ],
   "source": [
    "r.status_code #if status_code is 400 then error in formatting the request"
   ]
  },
  {
   "cell_type": "code",
   "execution_count": 26,
   "id": "99bbb465-6a6b-4055-85e0-2c77cbba04e9",
   "metadata": {},
   "outputs": [
    {
     "data": {
      "text/plain": [
       "'{\\n  \"head\" : { },\\n  \"boolean\" : true\\n}'"
      ]
     },
     "execution_count": 26,
     "metadata": {},
     "output_type": "execute_result"
    }
   ],
   "source": [
    "r.text"
   ]
  },
  {
   "cell_type": "code",
   "execution_count": 31,
   "id": "1b21a2fa-ceff-456c-9cd8-ffee0a8cc932",
   "metadata": {},
   "outputs": [
    {
     "data": {
      "text/plain": [
       "True"
      ]
     },
     "execution_count": 31,
     "metadata": {},
     "output_type": "execute_result"
    }
   ],
   "source": [
    "r.json()['boolean']"
   ]
  },
  {
   "cell_type": "markdown",
   "id": "931b1100-c1cb-4b88-8f55-b0f821384b64",
   "metadata": {},
   "source": [
    "# defining the classifyer\n",
    "technique is different for human and non human "
   ]
  },
  {
   "cell_type": "code",
   "execution_count": 1,
   "id": "22d3d058-822f-467e-9e07-e2a5893236ba",
   "metadata": {},
   "outputs": [],
   "source": [
    "def is_person(wiki_code, with_wd=False):\n",
    "    \"\"\"from the wikipedia code returns whether the entity is a person or not\"\"\"\n",
    "    if with_wd:\n",
    "        code = wiki_code\n",
    "    else : code = \"wd:\"+wiki_code\n",
    "    ask_query = \"ASK {\"+ code +\" wdt:P31 wd:Q5.}\"\n",
    "    endpoint_url = \"https://query.wikidata.org/sparql\"\n",
    "    headers = {'User-Agent': 'MyBot'}\n",
    "    payload = {\n",
    "            'query': ask_query,\n",
    "            'format': 'json'\n",
    "        }\n",
    "    r = requests.get(endpoint_url, params=payload, headers=headers)\n",
    "    return r.json()['boolean']"
   ]
  },
  {
   "cell_type": "code",
   "execution_count": 3,
   "id": "b7bba97c-c1d6-4d7d-b0ec-54fcaa86d8eb",
   "metadata": {},
   "outputs": [
    {
     "data": {
      "text/plain": [
       "True"
      ]
     },
     "execution_count": 3,
     "metadata": {},
     "output_type": "execute_result"
    }
   ],
   "source": [
    "is_person(\"Q5383\") #test sur david bowie"
   ]
  },
  {
   "cell_type": "markdown",
   "id": "da41d3c9-b7e9-4ea5-b82f-97fa6434687b",
   "metadata": {},
   "source": [
    "# identifying the interesting elements\n",
    "has been done by finding the right terms\n",
    "- person wd:Q215627\n",
    "- geographic entity wd:Q27096213\n",
    "- string wd:Q184754\n",
    "- temporal entity wd:Q26907166\n",
    "- group of humans wd:Q16334295\n",
    "- wikipedia related\n",
    "- other\n",
    "\n",
    "## classifying the types of people"
   ]
  },
  {
   "cell_type": "code",
   "execution_count": 20,
   "id": "f94769f1-463a-4842-82f4-8325d50399b5",
   "metadata": {},
   "outputs": [],
   "source": [
    "def is_instanceof_subclass(wiki_code_data, wiki_code_class):\n",
    "    ask_query = \"ASK {\"+ wiki_code_data +\" p:P31 ?statement0. ?statement0 (ps:P31/(wdt:P279*)) \"+ wiki_code_class +\".}\"\n",
    "    endpoint_url = \"https://query.wikidata.org/sparql\"\n",
    "    headers = {'User-Agent': 'MyBot'}\n",
    "    payload = {\n",
    "            'query': ask_query,\n",
    "            'format': 'json'\n",
    "        }\n",
    "    r = requests.get(endpoint_url, params=payload, headers=headers)\n",
    "    return r.json()['boolean']\n",
    "\n",
    "def is_geographic_entity(wiki_code_data, with_wd=False):\n",
    "    if with_wd:\n",
    "        code = wiki_code\n",
    "    else : code = \"wd:\"+wiki_code\n",
    "    return is_instanceof_subclass(code, \"wd:Q27096213\")\n",
    "\n",
    "\n",
    "def is_temporal_entity(wiki_code_data, with_wd=False):\n",
    "    if with_wd:\n",
    "        code = wiki_code\n",
    "    else : code = \"wd:\"+wiki_code\n",
    "    return is_instanceof_subclass(code, \"wd:Q26907166\")\n",
    "\n",
    "def is_group_of_human(wiki_code_data, with_wd=False):\n",
    "    if with_wd:\n",
    "        code = wiki_code\n",
    "    else : code = \"wd:\"+wiki_code\n",
    "    return is_instanceof_subclass(code, \"wd:Q16334295\")\n"
   ]
  },
  {
   "cell_type": "markdown",
   "id": "a2948cf6-4c08-40c8-98e6-c65b17f67f0b",
   "metadata": {},
   "source": [
    "### putting away the wikipedia and other links"
   ]
  },
  {
   "cell_type": "code",
   "execution_count": 25,
   "id": "ccdc6343-9054-4ca4-bd8f-49172a962951",
   "metadata": {},
   "outputs": [],
   "source": [
    "def is_wikidata(iri):\n",
    "    caract = \"http://www.wikidata.org/\"\n",
    "    taille = len(caract)\n",
    "    return iri[:taille] == caract"
   ]
  },
  {
   "cell_type": "code",
   "execution_count": 24,
   "id": "32c99d10-8b3f-4c0f-8590-ad868e980d0f",
   "metadata": {},
   "outputs": [
    {
     "data": {
      "text/plain": [
       "False"
      ]
     },
     "execution_count": 24,
     "metadata": {},
     "output_type": "execute_result"
    }
   ],
   "source": [
    "is_wikidata(\"https://www.wikipedia.org/wiki/Q16334295\")"
   ]
  },
  {
   "cell_type": "markdown",
   "id": "cc9bd602-e443-4c14-be09-dfb3552aba86",
   "metadata": {},
   "source": [
    "## Getting the wikipedia code\n",
    "how to deal with iri like : https://www.wikidata.org/wiki/Q65052335#Q65052335$ABF63D2E-C066-4DE7-94C2-F846B66BCB37"
   ]
  },
  {
   "cell_type": "code",
   "execution_count": null,
   "id": "edc05585-b36f-4aa3-81aa-7e859fbd16d4",
   "metadata": {},
   "outputs": [],
   "source": [
    "def get_wiki_code(iri):\n",
    "    #TODO\n",
    "    # split to check if there is entity in the name \n",
    "    # get the part \"Q...\"\n",
    "    return None "
   ]
  },
  {
   "cell_type": "markdown",
   "id": "7d9842fb-082e-4825-8329-f3bdf998a78a",
   "metadata": {},
   "source": [
    "## Applying it on several elements"
   ]
  },
  {
   "cell_type": "code",
   "execution_count": 29,
   "id": "3ea1ed0b-a0a1-4778-a561-f9f75013f119",
   "metadata": {},
   "outputs": [],
   "source": [
    "class_value_to_type = [\"not wikidata\", \"person\", \"geographic entity\", \"temporal entity\", \"group of humans\", \"other\"]\n",
    "def get_type_from_value(n):\n",
    "    return class_value_to_type[n]\n",
    "\n",
    "def create_classified_nodes(list_of_nodes):\n",
    "    \"\"\" relations \n",
    "        0: not wikidata\n",
    "        1: person \n",
    "        2 : geographic entity\n",
    "        3 : temporal entity\n",
    "        4 : group of human\n",
    "        5 : other\"\"\"\n",
    "    node_class = []\n",
    "    for node in tqdm(list_of_nodes):\n",
    "        value = 0\n",
    "        if is_wikidata(node):\n",
    "            #get the wikicode\n",
    "            node_code = get_wiki_code(iri)\n",
    "            found = False\n",
    "            for num, funct in enumerate([is_person, is_geographic_entity, is_temporal_entity, is_group_of_human]):\n",
    "                if funct(code_node):\n",
    "                    value = num + 1\n",
    "                    found = True\n",
    "                    break\n",
    "            if not found: \n",
    "                value = 5\n",
    "        node_class.append(value)\n",
    "    return node_class"
   ]
  },
  {
   "cell_type": "code",
   "execution_count": null,
   "id": "12b30589-b51b-4548-934c-86fcef8027a1",
   "metadata": {},
   "outputs": [],
   "source": []
  },
  {
   "cell_type": "markdown",
   "id": "3c9202ed-3c24-4b86-baaa-34e60ea526ed",
   "metadata": {},
   "source": [
    "# Testing on a smaller graph"
   ]
  },
  {
   "cell_type": "code",
   "execution_count": 39,
   "id": "02ca8141-d3a8-4d80-975c-a021abf22f23",
   "metadata": {},
   "outputs": [],
   "source": [
    "PATH = \"collecting_data_with_SPARQL/graph_to_queer_people_dist1.csv\"\n",
    "df = pd.read_csv(PATH)\n",
    "df2 = df[:100]"
   ]
  },
  {
   "cell_type": "markdown",
   "id": "88abd5c2-98f2-44e4-bea2-c8a50cde238c",
   "metadata": {},
   "source": [
    "### testing with only the human"
   ]
  },
  {
   "cell_type": "code",
   "execution_count": 40,
   "id": "9dfd10a7-618b-4659-945e-3c1519ade33e",
   "metadata": {},
   "outputs": [
    {
     "name": "stdout",
     "output_type": "stream",
     "text": [
      "<class 'pandas.core.frame.DataFrame'>\n",
      "RangeIndex: 100 entries, 0 to 99\n",
      "Data columns (total 4 columns):\n",
      " #   Column     Non-Null Count  Dtype  \n",
      "---  ------     --------------  -----  \n",
      " 0   subject    100 non-null    object \n",
      " 1   predicate  100 non-null    object \n",
      " 2   object     100 non-null    object \n",
      " 3   context    0 non-null      float64\n",
      "dtypes: float64(1), object(3)\n",
      "memory usage: 3.2+ KB\n"
     ]
    }
   ],
   "source": [
    "df2.info()"
   ]
  },
  {
   "cell_type": "markdown",
   "id": "dd6357fb-0081-400d-9880-6ebc13df1990",
   "metadata": {},
   "source": [
    "# Testing "
   ]
  },
  {
   "cell_type": "code",
   "execution_count": 4,
   "id": "956ff7d3-b8a1-4cbd-9adf-0bd20a13a2cf",
   "metadata": {},
   "outputs": [
    {
     "name": "stdout",
     "output_type": "stream",
     "text": [
      "<class 'pandas.core.frame.DataFrame'>\n",
      "RangeIndex: 58443 entries, 0 to 58442\n",
      "Data columns (total 4 columns):\n",
      " #   Column     Non-Null Count  Dtype  \n",
      "---  ------     --------------  -----  \n",
      " 0   subject    58443 non-null  object \n",
      " 1   predicate  58443 non-null  object \n",
      " 2   object     58443 non-null  object \n",
      " 3   context    0 non-null      float64\n",
      "dtypes: float64(1), object(3)\n",
      "memory usage: 1.8+ MB\n"
     ]
    }
   ],
   "source": [
    "file_path = \"collecting_data_with_SPARQL/star_graph_gay_men.csv\"\n",
    "df = pd.read_csv(file_path)\n",
    "df.info()"
   ]
  },
  {
   "cell_type": "code",
   "execution_count": 10,
   "id": "ee07cde2-dd5d-402a-b8f4-07783b775f53",
   "metadata": {},
   "outputs": [],
   "source": [
    "nxgraph = nx.from_pandas_edgelist(df, \"subject\", \"object\")"
   ]
  },
  {
   "cell_type": "code",
   "execution_count": 11,
   "id": "031c3137-0e13-444f-82d7-e70e10f137dc",
   "metadata": {},
   "outputs": [
    {
     "data": {
      "text/plain": [
       "475"
      ]
     },
     "execution_count": 11,
     "metadata": {},
     "output_type": "execute_result"
    }
   ],
   "source": [
    "people_list = df[\"subject\"].unique()\n",
    "len(people_list)"
   ]
  },
  {
   "cell_type": "code",
   "execution_count": 12,
   "id": "3dee9c03-1a84-4012-b3cf-81348ce3770d",
   "metadata": {},
   "outputs": [
    {
     "data": {
      "text/plain": [
       "37999"
      ]
     },
     "execution_count": 12,
     "metadata": {},
     "output_type": "execute_result"
    }
   ],
   "source": [
    "object_list = df[\"object\"].unique()\n",
    "len(object_list)"
   ]
  },
  {
   "cell_type": "code",
   "execution_count": 30,
   "id": "6b63de0d-dfa5-418c-b389-87492cce91ef",
   "metadata": {},
   "outputs": [
    {
     "data": {
      "application/vnd.jupyter.widget-view+json": {
       "model_id": "bae29586b0f0492dabfe82df236796f2",
       "version_major": 2,
       "version_minor": 0
      },
      "text/plain": [
       "  0%|          | 0/37999 [00:00<?, ?it/s]"
      ]
     },
     "metadata": {},
     "output_type": "display_data"
    },
    {
     "ename": "NameError",
     "evalue": "name 'get_wiki_code' is not defined",
     "output_type": "error",
     "traceback": [
      "\u001b[0;31m---------------------------------------------------------------------------\u001b[0m",
      "\u001b[0;31mNameError\u001b[0m                                 Traceback (most recent call last)",
      "\u001b[0;32m/tmp/ipykernel_123040/4197182576.py\u001b[0m in \u001b[0;36m<module>\u001b[0;34m\u001b[0m\n\u001b[0;32m----> 1\u001b[0;31m \u001b[0mobject_types\u001b[0m \u001b[0;34m=\u001b[0m \u001b[0mcreate_classified_nodes\u001b[0m\u001b[0;34m(\u001b[0m\u001b[0mobject_list\u001b[0m\u001b[0;34m)\u001b[0m\u001b[0;34m\u001b[0m\u001b[0;34m\u001b[0m\u001b[0m\n\u001b[0m",
      "\u001b[0;32m/tmp/ipykernel_123040/2558437617.py\u001b[0m in \u001b[0;36mcreate_classified_nodes\u001b[0;34m(list_of_nodes)\u001b[0m\n\u001b[1;32m     16\u001b[0m         \u001b[0;32mif\u001b[0m \u001b[0mis_wikidata\u001b[0m\u001b[0;34m(\u001b[0m\u001b[0mnode\u001b[0m\u001b[0;34m)\u001b[0m\u001b[0;34m:\u001b[0m\u001b[0;34m\u001b[0m\u001b[0;34m\u001b[0m\u001b[0m\n\u001b[1;32m     17\u001b[0m             \u001b[0;31m#get the wikicode\u001b[0m\u001b[0;34m\u001b[0m\u001b[0;34m\u001b[0m\u001b[0m\n\u001b[0;32m---> 18\u001b[0;31m             \u001b[0mnode_code\u001b[0m \u001b[0;34m=\u001b[0m \u001b[0mget_wiki_code\u001b[0m\u001b[0;34m(\u001b[0m\u001b[0miri\u001b[0m\u001b[0;34m)\u001b[0m\u001b[0;34m\u001b[0m\u001b[0;34m\u001b[0m\u001b[0m\n\u001b[0m\u001b[1;32m     19\u001b[0m             \u001b[0mfound\u001b[0m \u001b[0;34m=\u001b[0m \u001b[0;32mFalse\u001b[0m\u001b[0;34m\u001b[0m\u001b[0;34m\u001b[0m\u001b[0m\n\u001b[1;32m     20\u001b[0m             \u001b[0;32mfor\u001b[0m \u001b[0mnum\u001b[0m\u001b[0;34m,\u001b[0m \u001b[0mfunct\u001b[0m \u001b[0;32min\u001b[0m \u001b[0menumerate\u001b[0m\u001b[0;34m(\u001b[0m\u001b[0;34m[\u001b[0m\u001b[0mis_person\u001b[0m\u001b[0;34m,\u001b[0m \u001b[0mis_geographic_entity\u001b[0m\u001b[0;34m,\u001b[0m \u001b[0mis_temporal_entity\u001b[0m\u001b[0;34m,\u001b[0m \u001b[0mis_group_of_human\u001b[0m\u001b[0;34m]\u001b[0m\u001b[0;34m)\u001b[0m\u001b[0;34m:\u001b[0m\u001b[0;34m\u001b[0m\u001b[0;34m\u001b[0m\u001b[0m\n",
      "\u001b[0;31mNameError\u001b[0m: name 'get_wiki_code' is not defined"
     ]
    }
   ],
   "source": [
    "object_types = create_classified_nodes(object_list)"
   ]
  },
  {
   "cell_type": "code",
   "execution_count": 22,
   "id": "180be81b-e5df-4a18-b234-9febdad8992d",
   "metadata": {},
   "outputs": [
    {
     "data": {
      "text/plain": [
       "37999"
      ]
     },
     "execution_count": 22,
     "metadata": {},
     "output_type": "execute_result"
    }
   ],
   "source": [
    "len(object_types)"
   ]
  },
  {
   "cell_type": "markdown",
   "id": "3d5fc985-4997-49bd-9881-1d322a478c29",
   "metadata": {},
   "source": [
    "### easier version with only wiki data and person"
   ]
  },
  {
   "cell_type": "code",
   "execution_count": 31,
   "id": "b5cbe7f4-481d-437b-abf0-94371a6846a8",
   "metadata": {},
   "outputs": [
    {
     "data": {
      "application/vnd.jupyter.widget-view+json": {
       "model_id": "7ce644eeebb64833bab8df336eabc5bb",
       "version_major": 2,
       "version_minor": 0
      },
      "text/plain": [
       "  0%|          | 0/37999 [00:00<?, ?it/s]"
      ]
     },
     "metadata": {},
     "output_type": "display_data"
    }
   ],
   "source": [
    "object_types_simple = []\n",
    "for o in tqdm(object_list):\n",
    "    if not is_wikidata(o):\n",
    "        object_types_simple.append(\"not wikidata\")\n",
    "    else :\n",
    "        object_types_simple.append(\"wikidata entity\")"
   ]
  },
  {
   "cell_type": "code",
   "execution_count": 32,
   "id": "0ca15b8b-dbf6-474e-be3c-18ea29c533f8",
   "metadata": {},
   "outputs": [],
   "source": [
    "people_list_type = [\"human\"] * len(people_list)"
   ]
  },
  {
   "cell_type": "code",
   "execution_count": 37,
   "id": "9507e7ec-75cb-4735-85ac-632a5f7e9c6b",
   "metadata": {},
   "outputs": [],
   "source": [
    "nodes_list = [*people_list, *object_list]"
   ]
  },
  {
   "cell_type": "code",
   "execution_count": null,
   "id": "25f0fe98-29c4-4e69-9d75-9c7926caa33d",
   "metadata": {},
   "outputs": [],
   "source": []
  },
  {
   "cell_type": "code",
   "execution_count": 38,
   "id": "bd75b149-e9d5-4acb-a4b6-19bd01c60d64",
   "metadata": {},
   "outputs": [
    {
     "name": "stdout",
     "output_type": "stream",
     "text": [
      "<class 'pandas.core.frame.DataFrame'>\n",
      "RangeIndex: 38474 entries, 0 to 38473\n",
      "Data columns (total 1 columns):\n",
      " #   Column  Non-Null Count  Dtype \n",
      "---  ------  --------------  ----- \n",
      " 0   node    38474 non-null  object\n",
      "dtypes: object(1)\n",
      "memory usage: 300.7+ KB\n"
     ]
    }
   ],
   "source": [
    "df_nodes = pd.DataFrame(data=nodes_list, columns=[\"node\"])\n",
    "df_nodes.info()"
   ]
  },
  {
   "cell_type": "code",
   "execution_count": 39,
   "id": "43db01bd-a442-4b9c-a803-48f2d1474420",
   "metadata": {},
   "outputs": [
    {
     "name": "stdout",
     "output_type": "stream",
     "text": [
      "<class 'pandas.core.frame.DataFrame'>\n",
      "RangeIndex: 38474 entries, 0 to 38473\n",
      "Data columns (total 2 columns):\n",
      " #   Column  Non-Null Count  Dtype \n",
      "---  ------  --------------  ----- \n",
      " 0   node    38474 non-null  object\n",
      " 1   type    38474 non-null  object\n",
      "dtypes: object(2)\n",
      "memory usage: 601.3+ KB\n"
     ]
    }
   ],
   "source": [
    "df_nodes[\"type\"] = [*people_list_type, *object_types_simple]\n",
    "df_nodes.info()"
   ]
  },
  {
   "cell_type": "code",
   "execution_count": 41,
   "id": "65ac9588-0cb6-432c-9a3b-805846bf7d23",
   "metadata": {},
   "outputs": [],
   "source": [
    "df_nodes.to_csv(\"collecting_data_with_SPARQL/graph_gay_men_nodes_simple.csv\")"
   ]
  },
  {
   "cell_type": "code",
   "execution_count": 45,
   "id": "5b78b866-7d60-468a-ab11-b4baac16dca2",
   "metadata": {},
   "outputs": [
    {
     "data": {
      "text/plain": [
       "wikidata entity    20093\n",
       "not wikidata       17906\n",
       "human                475\n",
       "Name: type, dtype: int64"
      ]
     },
     "execution_count": 45,
     "metadata": {},
     "output_type": "execute_result"
    }
   ],
   "source": [
    "df_nodes[\"type\"].value_counts()"
   ]
  },
  {
   "cell_type": "code",
   "execution_count": null,
   "id": "0279079e-8ec6-4f20-8475-3da6fdf60905",
   "metadata": {},
   "outputs": [],
   "source": []
  }
 ],
 "metadata": {
  "kernelspec": {
   "display_name": "Python 3 (ipykernel)",
   "language": "python",
   "name": "python3"
  },
  "language_info": {
   "codemirror_mode": {
    "name": "ipython",
    "version": 3
   },
   "file_extension": ".py",
   "mimetype": "text/x-python",
   "name": "python",
   "nbconvert_exporter": "python",
   "pygments_lexer": "ipython3",
   "version": "3.9.13"
  }
 },
 "nbformat": 4,
 "nbformat_minor": 5
}
