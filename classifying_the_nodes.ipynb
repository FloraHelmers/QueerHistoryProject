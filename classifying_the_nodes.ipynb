{
 "cells": [
  {
   "cell_type": "code",
   "execution_count": 1,
   "id": "0f01a351-9300-443f-ae8e-f90ac7581501",
   "metadata": {},
   "outputs": [],
   "source": [
    "import rdflib\n",
    "from rdflib import Graph\n",
    "from rdflib.extras.external_graph_libs import rdflib_to_networkx_multidigraph\n",
    "import networkx as nx\n",
    "import matplotlib.pyplot as plt\n",
    "\n",
    "import requests\n",
    "import json"
   ]
  },
  {
   "cell_type": "code",
   "execution_count": 38,
   "id": "22f382d4-c3fc-4657-beb7-c60bf414598e",
   "metadata": {},
   "outputs": [],
   "source": [
    "import pandas as pd \n",
    "import networkx as nx\n",
    "import nx_altair as nx\n",
    "import altair as alt"
   ]
  },
  {
   "cell_type": "code",
   "execution_count": 21,
   "id": "c6dff723-1edf-4dc5-b439-fae8aa4f461e",
   "metadata": {},
   "outputs": [],
   "source": [
    "ask_query = \"\"\"ASK {\n",
    "      wd:Q34201 p:P31 ?statement0.\n",
    "      ?statement0 (ps:P31/(wdt:P279*)) wd:Q215627.\n",
    " }\"\"\"\n",
    "\n",
    "\n",
    "endpoint_url = \"https://query.wikidata.org/sparql\"\n",
    "headers = {'User-Agent': 'MyBot'}\n",
    "payload = {\n",
    "        'query': ask_query,\n",
    "        'format': 'json'\n",
    "    }\n",
    "r = requests.get(endpoint_url, params=payload, headers=headers)"
   ]
  },
  {
   "cell_type": "code",
   "execution_count": 24,
   "id": "cab1855e-3541-46b6-8e22-00130f40686b",
   "metadata": {},
   "outputs": [
    {
     "data": {
      "text/plain": [
       "200"
      ]
     },
     "execution_count": 24,
     "metadata": {},
     "output_type": "execute_result"
    }
   ],
   "source": [
    "r.status_code #if status_code is 400 then error in formatting the request"
   ]
  },
  {
   "cell_type": "code",
   "execution_count": 26,
   "id": "99bbb465-6a6b-4055-85e0-2c77cbba04e9",
   "metadata": {},
   "outputs": [
    {
     "data": {
      "text/plain": [
       "'{\\n  \"head\" : { },\\n  \"boolean\" : true\\n}'"
      ]
     },
     "execution_count": 26,
     "metadata": {},
     "output_type": "execute_result"
    }
   ],
   "source": [
    "r.text"
   ]
  },
  {
   "cell_type": "code",
   "execution_count": 31,
   "id": "1b21a2fa-ceff-456c-9cd8-ffee0a8cc932",
   "metadata": {},
   "outputs": [
    {
     "data": {
      "text/plain": [
       "True"
      ]
     },
     "execution_count": 31,
     "metadata": {},
     "output_type": "execute_result"
    }
   ],
   "source": [
    "r.json()['boolean']"
   ]
  },
  {
   "cell_type": "markdown",
   "id": "931b1100-c1cb-4b88-8f55-b0f821384b64",
   "metadata": {},
   "source": [
    "# defining the classifyer"
   ]
  },
  {
   "cell_type": "code",
   "execution_count": 35,
   "id": "22d3d058-822f-467e-9e07-e2a5893236ba",
   "metadata": {},
   "outputs": [],
   "source": [
    "def is_person(wiki_code, with_wd=False):\n",
    "    \"\"\"from the wikipedia code returns whether the entity is a person or not\"\"\"\n",
    "    if with_wd:\n",
    "        code = wiki_code\n",
    "    else : code = \"wd:\"+wiki_code\n",
    "    ask_query = \"ASK {\"+ code +\" p:P31 ?statement0. ?statement0 (ps:P31/(wdt:P279*)) wd:Q215627.}\"\n",
    "    endpoint_url = \"https://query.wikidata.org/sparql\"\n",
    "    headers = {'User-Agent': 'MyBot'}\n",
    "    payload = {\n",
    "            'query': ask_query,\n",
    "            'format': 'json'\n",
    "        }\n",
    "    r = requests.get(endpoint_url, params=payload, headers=headers)\n",
    "    return r.json()['boolean']"
   ]
  },
  {
   "cell_type": "code",
   "execution_count": 36,
   "id": "b7bba97c-c1d6-4d7d-b0ec-54fcaa86d8eb",
   "metadata": {},
   "outputs": [
    {
     "data": {
      "text/plain": [
       "True"
      ]
     },
     "execution_count": 36,
     "metadata": {},
     "output_type": "execute_result"
    }
   ],
   "source": [
    "is_person(\"Q5383\") #test sur david bowie"
   ]
  },
  {
   "cell_type": "markdown",
   "id": "da41d3c9-b7e9-4ea5-b82f-97fa6434687b",
   "metadata": {},
   "source": [
    "# identifying the interesting elements\n",
    "has been done by finding the right terms\n",
    "- person wd:Q215627\n",
    "- geographic entity wd:Q27096213\n",
    "- string wd:Q184754\n",
    "- temporal entity wd:Q26907166\n",
    "- group of humans wd:Q16334295\n",
    "- wikipedia related\n",
    "- other\n",
    "\n",
    "## classifying the types of people"
   ]
  },
  {
   "cell_type": "code",
   "execution_count": null,
   "id": "f94769f1-463a-4842-82f4-8325d50399b5",
   "metadata": {},
   "outputs": [],
   "source": []
  },
  {
   "cell_type": "markdown",
   "id": "a2948cf6-4c08-40c8-98e6-c65b17f67f0b",
   "metadata": {},
   "source": [
    "### putting away the wikipedia and other links"
   ]
  },
  {
   "cell_type": "code",
   "execution_count": 42,
   "id": "ccdc6343-9054-4ca4-bd8f-49172a962951",
   "metadata": {},
   "outputs": [],
   "source": [
    "def is_wikidata(iri):\n",
    "    caract = \"https://www.wikidata.org/\"\n",
    "    taille = len(caract)\n",
    "    return iri[:taille] == caract"
   ]
  },
  {
   "cell_type": "code",
   "execution_count": 44,
   "id": "32c99d10-8b3f-4c0f-8590-ad868e980d0f",
   "metadata": {},
   "outputs": [
    {
     "data": {
      "text/plain": [
       "False"
      ]
     },
     "execution_count": 44,
     "metadata": {},
     "output_type": "execute_result"
    }
   ],
   "source": [
    "is_wikidata(\"https://www.wikipedia.org/wiki/Q16334295\")"
   ]
  },
  {
   "cell_type": "markdown",
   "id": "3c9202ed-3c24-4b86-baaa-34e60ea526ed",
   "metadata": {},
   "source": [
    "# Testing on a smaller graph"
   ]
  },
  {
   "cell_type": "code",
   "execution_count": 39,
   "id": "02ca8141-d3a8-4d80-975c-a021abf22f23",
   "metadata": {},
   "outputs": [],
   "source": [
    "PATH = \"collecting_data_with_SPARQL/graph_to_queer_people_dist1.csv\"\n",
    "df = pd.read_csv(PATH)\n",
    "df2 = df[:100]"
   ]
  },
  {
   "cell_type": "markdown",
   "id": "88abd5c2-98f2-44e4-bea2-c8a50cde238c",
   "metadata": {},
   "source": [
    "### testing with only the human"
   ]
  },
  {
   "cell_type": "code",
   "execution_count": 40,
   "id": "9dfd10a7-618b-4659-945e-3c1519ade33e",
   "metadata": {},
   "outputs": [
    {
     "name": "stdout",
     "output_type": "stream",
     "text": [
      "<class 'pandas.core.frame.DataFrame'>\n",
      "RangeIndex: 100 entries, 0 to 99\n",
      "Data columns (total 4 columns):\n",
      " #   Column     Non-Null Count  Dtype  \n",
      "---  ------     --------------  -----  \n",
      " 0   subject    100 non-null    object \n",
      " 1   predicate  100 non-null    object \n",
      " 2   object     100 non-null    object \n",
      " 3   context    0 non-null      float64\n",
      "dtypes: float64(1), object(3)\n",
      "memory usage: 3.2+ KB\n"
     ]
    }
   ],
   "source": [
    "df2.info()"
   ]
  }
 ],
 "metadata": {
  "kernelspec": {
   "display_name": "Python 3 (ipykernel)",
   "language": "python",
   "name": "python3"
  },
  "language_info": {
   "codemirror_mode": {
    "name": "ipython",
    "version": 3
   },
   "file_extension": ".py",
   "mimetype": "text/x-python",
   "name": "python",
   "nbconvert_exporter": "python",
   "pygments_lexer": "ipython3",
   "version": "3.10.6"
  }
 },
 "nbformat": 4,
 "nbformat_minor": 5
}
