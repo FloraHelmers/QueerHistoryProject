{
 "cells": [
  {
   "cell_type": "code",
   "execution_count": 1,
   "id": "e0808352-5545-48ff-9ace-64d3115a4354",
   "metadata": {},
   "outputs": [],
   "source": [
    "import pandas as pd"
   ]
  },
  {
   "cell_type": "code",
   "execution_count": 2,
   "id": "0331e7f5-c7a8-4185-a777-3b50ef95cdfb",
   "metadata": {},
   "outputs": [
    {
     "name": "stdout",
     "output_type": "stream",
     "text": [
      "<class 'pandas.core.frame.DataFrame'>\n",
      "RangeIndex: 48 entries, 0 to 47\n",
      "Data columns (total 2 columns):\n",
      " #   Column  Non-Null Count  Dtype \n",
      "---  ------  --------------  ----- \n",
      " 0   person  48 non-null     object\n",
      " 1   item    48 non-null     object\n",
      "dtypes: object(2)\n",
      "memory usage: 896.0+ bytes\n"
     ]
    }
   ],
   "source": [
    "members = pd.read_csv(\"members_of_lgtq_facets.csv\")\n",
    "members.info()"
   ]
  },
  {
   "cell_type": "code",
   "execution_count": 4,
   "id": "e6f38496-0898-4e27-a827-279fc33a8f9f",
   "metadata": {},
   "outputs": [
    {
     "data": {
      "text/plain": [
       "array(['http://www.wikidata.org/entity/Q113080923',\n",
       "       'http://www.wikidata.org/entity/Q113081155',\n",
       "       'http://www.wikidata.org/entity/Q114869539',\n",
       "       'http://www.wikidata.org/entity/Q20084108',\n",
       "       'http://www.wikidata.org/entity/Q31837672',\n",
       "       'http://www.wikidata.org/entity/Q65751774',\n",
       "       'http://www.wikidata.org/entity/Q95149025',\n",
       "       'http://www.wikidata.org/entity/Q96404611',\n",
       "       'http://www.wikidata.org/entity/Q100743737',\n",
       "       'http://www.wikidata.org/entity/Q106097198',\n",
       "       'http://www.wikidata.org/entity/Q106097280',\n",
       "       'http://www.wikidata.org/entity/Q112813247',\n",
       "       'http://www.wikidata.org/entity/Q115226',\n",
       "       'http://www.wikidata.org/entity/Q871347',\n",
       "       'http://www.wikidata.org/entity/Q1005589',\n",
       "       'http://www.wikidata.org/entity/Q1008897',\n",
       "       'http://www.wikidata.org/entity/Q1202994',\n",
       "       'http://www.wikidata.org/entity/Q1626396',\n",
       "       'http://www.wikidata.org/entity/Q1637438',\n",
       "       'http://www.wikidata.org/entity/Q1711366'], dtype=object)"
      ]
     },
     "execution_count": 4,
     "metadata": {},
     "output_type": "execute_result"
    }
   ],
   "source": [
    "members[\"item\"].unique()"
   ]
  },
  {
   "cell_type": "code",
   "execution_count": 6,
   "id": "0c859e92-0b79-430c-9ac9-ba05b266ea61",
   "metadata": {},
   "outputs": [
    {
     "data": {
      "text/plain": [
       "http://www.wikidata.org/entity/Q113080923    7\n",
       "http://www.wikidata.org/entity/Q100743737    6\n",
       "http://www.wikidata.org/entity/Q115226       6\n",
       "http://www.wikidata.org/entity/Q106097198    5\n",
       "http://www.wikidata.org/entity/Q113081155    4\n",
       "http://www.wikidata.org/entity/Q20084108     3\n",
       "http://www.wikidata.org/entity/Q95149025     3\n",
       "http://www.wikidata.org/entity/Q31837672     2\n",
       "http://www.wikidata.org/entity/Q1005589      1\n",
       "http://www.wikidata.org/entity/Q1637438      1\n",
       "http://www.wikidata.org/entity/Q1626396      1\n",
       "http://www.wikidata.org/entity/Q1202994      1\n",
       "http://www.wikidata.org/entity/Q1008897      1\n",
       "http://www.wikidata.org/entity/Q106097280    1\n",
       "http://www.wikidata.org/entity/Q871347       1\n",
       "http://www.wikidata.org/entity/Q112813247    1\n",
       "http://www.wikidata.org/entity/Q96404611     1\n",
       "http://www.wikidata.org/entity/Q65751774     1\n",
       "http://www.wikidata.org/entity/Q114869539    1\n",
       "http://www.wikidata.org/entity/Q1711366      1\n",
       "Name: item, dtype: int64"
      ]
     },
     "execution_count": 6,
     "metadata": {},
     "output_type": "execute_result"
    }
   ],
   "source": [
    "members[\"item\"].value_counts()"
   ]
  }
 ],
 "metadata": {
  "kernelspec": {
   "display_name": "Python 3 (ipykernel)",
   "language": "python",
   "name": "python3"
  },
  "language_info": {
   "codemirror_mode": {
    "name": "ipython",
    "version": 3
   },
   "file_extension": ".py",
   "mimetype": "text/x-python",
   "name": "python",
   "nbconvert_exporter": "python",
   "pygments_lexer": "ipython3",
   "version": "3.9.13"
  }
 },
 "nbformat": 4,
 "nbformat_minor": 5
}
