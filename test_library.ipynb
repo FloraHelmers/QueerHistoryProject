{
  "nbformat": 4,
  "nbformat_minor": 0,
  "metadata": {
    "colab": {
      "provenance": []
    },
    "kernelspec": {
      "name": "python3",
      "display_name": "Python 3"
    },
    "language_info": {
      "name": "python"
    }
  },
  "cells": [
    {
      "cell_type": "code",
      "execution_count": null,
      "metadata": {
        "id": "UsFrjEfnJ2Cs",
        "outputId": "5d768c8a-aada-43b7-a342-772936ec3135",
        "colab": {
          "base_uri": "https://localhost:8080/"
        }
      },
      "outputs": [
        {
          "output_type": "execute_result",
          "data": {
            "text/plain": [
              "['/content',\n",
              " '/env/python',\n",
              " '/usr/lib/python38.zip',\n",
              " '/usr/lib/python3.8',\n",
              " '/usr/lib/python3.8/lib-dynload',\n",
              " '',\n",
              " '/usr/local/lib/python3.8/dist-packages',\n",
              " '/usr/lib/python3/dist-packages',\n",
              " '/usr/local/lib/python3.8/dist-packages/IPython/extensions',\n",
              " '/root/.ipython',\n",
              " '/content/drive/MyDrive/Colab Notebooks/kgbuilder']"
            ]
          },
          "metadata": {},
          "execution_count": 15
        }
      ],
      "source": [
        "import sys\n",
        "\n",
        "sys.path"
      ]
    },
    {
      "cell_type": "code",
      "source": [
        "sys.path.append('/content/drive/MyDrive/Colab Notebooks/kgbuilder')"
      ],
      "metadata": {
        "id": "F9VsF69VvRBs"
      },
      "execution_count": null,
      "outputs": []
    },
    {
      "cell_type": "code",
      "source": [
        "!pip install rdflib\n",
        "!pip install datashader"
      ],
      "metadata": {
        "colab": {
          "base_uri": "https://localhost:8080/"
        },
        "id": "GE7Uaa83wUbv",
        "outputId": "7e7cd651-3e74-4592-ca01-7c1718cdab1e"
      },
      "execution_count": null,
      "outputs": [
        {
          "output_type": "stream",
          "name": "stdout",
          "text": [
            "Looking in indexes: https://pypi.org/simple, https://us-python.pkg.dev/colab-wheels/public/simple/\n",
            "Requirement already satisfied: rdflib in /usr/local/lib/python3.8/dist-packages (6.2.0)\n",
            "Requirement already satisfied: pyparsing in /usr/local/lib/python3.8/dist-packages (from rdflib) (3.0.9)\n",
            "Requirement already satisfied: isodate in /usr/local/lib/python3.8/dist-packages (from rdflib) (0.6.1)\n",
            "Requirement already satisfied: setuptools in /usr/local/lib/python3.8/dist-packages (from rdflib) (57.4.0)\n",
            "Requirement already satisfied: six in /usr/local/lib/python3.8/dist-packages (from isodate->rdflib) (1.15.0)\n",
            "Looking in indexes: https://pypi.org/simple, https://us-python.pkg.dev/colab-wheels/public/simple/\n",
            "Requirement already satisfied: datashader in /usr/local/lib/python3.8/dist-packages (0.14.3)\n",
            "Requirement already satisfied: colorcet in /usr/local/lib/python3.8/dist-packages (from datashader) (3.0.1)\n",
            "Requirement already satisfied: pillow in /usr/local/lib/python3.8/dist-packages (from datashader) (7.1.2)\n",
            "Requirement already satisfied: numba>=0.51 in /usr/local/lib/python3.8/dist-packages (from datashader) (0.56.4)\n",
            "Requirement already satisfied: toolz in /usr/local/lib/python3.8/dist-packages (from datashader) (0.12.0)\n",
            "Requirement already satisfied: numpy in /usr/local/lib/python3.8/dist-packages (from datashader) (1.21.6)\n",
            "Requirement already satisfied: pyct in /usr/local/lib/python3.8/dist-packages (from datashader) (0.4.8)\n",
            "Requirement already satisfied: param in /usr/local/lib/python3.8/dist-packages (from datashader) (1.12.3)\n",
            "Requirement already satisfied: pandas in /usr/local/lib/python3.8/dist-packages (from datashader) (1.3.5)\n",
            "Requirement already satisfied: xarray in /usr/local/lib/python3.8/dist-packages (from datashader) (2022.12.0)\n",
            "Requirement already satisfied: datashape in /usr/local/lib/python3.8/dist-packages (from datashader) (0.5.2)\n",
            "Requirement already satisfied: dask in /usr/local/lib/python3.8/dist-packages (from datashader) (2022.2.1)\n",
            "Requirement already satisfied: requests in /usr/local/lib/python3.8/dist-packages (from datashader) (2.25.1)\n",
            "Requirement already satisfied: scipy in /usr/local/lib/python3.8/dist-packages (from datashader) (1.7.3)\n",
            "Requirement already satisfied: importlib-metadata in /usr/local/lib/python3.8/dist-packages (from numba>=0.51->datashader) (6.0.0)\n",
            "Requirement already satisfied: llvmlite<0.40,>=0.39.0dev0 in /usr/local/lib/python3.8/dist-packages (from numba>=0.51->datashader) (0.39.1)\n",
            "Requirement already satisfied: setuptools in /usr/local/lib/python3.8/dist-packages (from numba>=0.51->datashader) (57.4.0)\n",
            "Requirement already satisfied: partd>=0.3.10 in /usr/local/lib/python3.8/dist-packages (from dask->datashader) (1.3.0)\n",
            "Requirement already satisfied: cloudpickle>=1.1.1 in /usr/local/lib/python3.8/dist-packages (from dask->datashader) (2.2.0)\n",
            "Requirement already satisfied: fsspec>=0.6.0 in /usr/local/lib/python3.8/dist-packages (from dask->datashader) (2022.11.0)\n",
            "Requirement already satisfied: packaging>=20.0 in /usr/local/lib/python3.8/dist-packages (from dask->datashader) (21.3)\n",
            "Requirement already satisfied: pyyaml>=5.3.1 in /usr/local/lib/python3.8/dist-packages (from dask->datashader) (6.0)\n",
            "Requirement already satisfied: python-dateutil in /usr/local/lib/python3.8/dist-packages (from datashape->datashader) (2.8.2)\n",
            "Requirement already satisfied: multipledispatch>=0.4.7 in /usr/local/lib/python3.8/dist-packages (from datashape->datashader) (0.6.0)\n",
            "Requirement already satisfied: pytz>=2017.3 in /usr/local/lib/python3.8/dist-packages (from pandas->datashader) (2022.7)\n",
            "Requirement already satisfied: certifi>=2017.4.17 in /usr/local/lib/python3.8/dist-packages (from requests->datashader) (2022.12.7)\n",
            "Requirement already satisfied: urllib3<1.27,>=1.21.1 in /usr/local/lib/python3.8/dist-packages (from requests->datashader) (1.24.3)\n",
            "Requirement already satisfied: idna<3,>=2.5 in /usr/local/lib/python3.8/dist-packages (from requests->datashader) (2.10)\n",
            "Requirement already satisfied: chardet<5,>=3.0.2 in /usr/local/lib/python3.8/dist-packages (from requests->datashader) (4.0.0)\n",
            "Requirement already satisfied: six in /usr/local/lib/python3.8/dist-packages (from multipledispatch>=0.4.7->datashape->datashader) (1.15.0)\n",
            "Requirement already satisfied: pyparsing!=3.0.5,>=2.0.2 in /usr/local/lib/python3.8/dist-packages (from packaging>=20.0->dask->datashader) (3.0.9)\n",
            "Requirement already satisfied: locket in /usr/local/lib/python3.8/dist-packages (from partd>=0.3.10->dask->datashader) (1.0.0)\n",
            "Requirement already satisfied: zipp>=0.5 in /usr/local/lib/python3.8/dist-packages (from importlib-metadata->numba>=0.51->datashader) (3.11.0)\n"
          ]
        }
      ]
    },
    {
      "cell_type": "code",
      "source": [
        "from rdflib import Graph\n",
        "from rdflib.extras.external_graph_libs import rdflib_to_networkx_multidigraph\n",
        "import networkx as nx\n",
        "import matplotlib.pyplot as plt\n",
        "\n",
        "import requests\n",
        "\n",
        "import pandas as pd\n",
        "\n",
        "import datashader as ds\n",
        "import datashader.transfer_functions as tf\n",
        "from datashader.layout import random_layout, circular_layout, forceatlas2_layout\n",
        "from datashader.bundling import connect_edges, hammer_bundle\n",
        "\n",
        "\n",
        "from itertools import chain\n",
        "\n",
        "import scipy"
      ],
      "metadata": {
        "id": "Ahnde87wwuG9"
      },
      "execution_count": null,
      "outputs": []
    },
    {
      "cell_type": "code",
      "source": [
        "from utils import *"
      ],
      "metadata": {
        "id": "0vx9Z6SSumCA"
      },
      "execution_count": null,
      "outputs": []
    },
    {
      "cell_type": "code",
      "source": [
        "prune_policy={'remove_deadend':True, 'remove_isolated':True}\n",
        "\n",
        "G=star_merging_pipeline(15, prune_policy)"
      ],
      "metadata": {
        "colab": {
          "base_uri": "https://localhost:8080/"
        },
        "id": "0TX9FGikw6aZ",
        "outputId": "158a4ce9-99af-49d1-b1fa-41bcb0e9c056"
      },
      "execution_count": null,
      "outputs": [
        {
          "output_type": "stream",
          "name": "stdout",
          "text": [
            "[rdflib.term.URIRef('http://www.w3.org/2002/07/owl#Thing'), rdflib.term.URIRef('http://www.w3.org/2002/07/owl#Restriction'), rdflib.term.URIRef('http://wikiba.se/ontology#NormalRank'), rdflib.term.Literal('together with', lang='en'), rdflib.term.URIRef('http://wikiba.se/ontology#BestRank'), rdflib.term.Literal('2016-11-12T00:00:00+00:00', datatype=rdflib.term.URIRef('http://www.w3.org/2001/XMLSchema#dateTime')), rdflib.term.Literal('MEP directory ID', lang='en'), rdflib.term.URIRef('http://wikiba.se/ontology#CommonsMedia'), rdflib.term.URIRef('http://wikiba.se/ontology#Statement'), rdflib.term.Literal('2022-07-01T00:00:00+00:00', datatype=rdflib.term.URIRef('http://www.w3.org/2001/XMLSchema#dateTime')), rdflib.term.Literal('Cinémathèque québécoise person ID', lang='en'), rdflib.term.Literal('social media followers', lang='en'), rdflib.term.Literal('Wikimedia category', lang='en'), rdflib.term.Literal('xHamster pornstar ID', lang='en'), rdflib.term.URIRef('http://wikiba.se/ontology#ExternalId'), rdflib.term.URIRef('http://schema.org/Dataset'), rdflib.term.Literal('MusicBrainz', lang='en'), rdflib.term.Literal('Kallías ID', lang='en'), rdflib.term.URIRef('http://creativecommons.org/publicdomain/zero/1.0/'), rdflib.term.URIRef('http://wikiba.se/ontology#WikibaseItem'), rdflib.term.URIRef('http://schema.org/Article'), rdflib.term.Literal('object has role', lang='en'), rdflib.term.Literal('reference URL', lang='en'), rdflib.term.Literal('has works in the collection', lang='en'), rdflib.term.Literal('affiliation', lang='en'), rdflib.term.Literal('media legend', lang='en'), rdflib.term.Literal('Faceted Application of Subject Terminology', lang='en'), rdflib.term.Literal('GitHub username', lang='en'), rdflib.term.Literal('arz'), rdflib.term.Literal('pa'), rdflib.term.Literal('Union List of Artist Names', lang='en'), rdflib.term.Literal('significant event', lang='en'), rdflib.term.Literal('personal pronoun', lang='en'), rdflib.term.URIRef('http://wikiba.se/ontology#DeprecatedRank'), rdflib.term.URIRef('http://wikiba.se/ontology#Property'), rdflib.term.URIRef('http://wikiba.se/ontology#Url'), rdflib.term.Literal('2022-10-30T00:00:00+00:00', datatype=rdflib.term.URIRef('http://www.w3.org/2001/XMLSchema#dateTime')), rdflib.term.Literal('ZKM person ID', lang='en'), rdflib.term.Literal('2021-10-25T00:00:00+00:00', datatype=rdflib.term.URIRef('http://www.w3.org/2001/XMLSchema#dateTime')), rdflib.term.Literal('Pornhub', lang='en'), rdflib.term.Literal('mass', lang='en'), rdflib.term.Literal('Danish National Filmography person ID', lang='en'), rdflib.term.Literal('YouPorn', lang='en'), rdflib.term.URIRef('http://wikiba.se/ontology#Quantity'), rdflib.term.Literal('Google Knowledge Graph ID', lang='en'), rdflib.term.Literal('MusicBrainz artist ID', lang='en'), rdflib.term.Literal('de'), rdflib.term.URIRef('http://www.wikidata.org/entity/Q1985786'), rdflib.term.Literal('Podchaser creator ID', lang='en'), rdflib.term.Literal('Hans Forster', lang='en'), rdflib.term.Literal('publication date', lang='en'), rdflib.term.Literal('official website', lang='en'), rdflib.term.Literal('2018-05-10T00:00:00+00:00', datatype=rdflib.term.URIRef('http://www.w3.org/2001/XMLSchema#dateTime')), rdflib.term.Literal('private account', lang='en'), rdflib.term.Literal('Twitter user numeric ID', lang='en'), rdflib.term.Literal('Nazi Germany', lang='en'), rdflib.term.Literal('work period (start)', lang='en'), rdflib.term.Literal('AllMovie person ID', lang='en'), rdflib.term.Literal('fr'), rdflib.term.Literal('archives at', lang='en'), rdflib.term.Literal('es'), rdflib.term.Literal('retrieved', lang='en'), rdflib.term.Literal('name in native language', lang='en'), rdflib.term.Literal('Mastodon address', lang='en'), rdflib.term.Literal('2020-05-13T00:00:00+00:00', datatype=rdflib.term.URIRef('http://www.w3.org/2001/XMLSchema#dateTime')), rdflib.term.Literal('Facebook ID', lang='en'), rdflib.term.Literal('2019-06-22T00:00:00+00:00', datatype=rdflib.term.URIRef('http://www.w3.org/2001/XMLSchema#dateTime')), rdflib.term.Literal('convicted of', lang='en'), rdflib.term.Literal('Italian Wikipedia', lang='en'), rdflib.term.Literal('PORT person ID', lang='en'), rdflib.term.Literal('2022-08-30T00:00:00+00:00', datatype=rdflib.term.URIRef('http://www.w3.org/2001/XMLSchema#dateTime')), rdflib.term.URIRef('http://wikiba.se/ontology#Time'), rdflib.term.Literal('died more than 100 years ago', lang='en'), rdflib.term.Literal('object named as', lang='en'), rdflib.term.Literal('2016-04-01T00:00:00+00:00', datatype=rdflib.term.URIRef('http://www.w3.org/2001/XMLSchema#dateTime')), rdflib.term.Literal('2002-01-01T00:00:00+00:00', datatype=rdflib.term.URIRef('http://www.w3.org/2001/XMLSchema#dateTime')), rdflib.term.Literal('We Live Together.com', lang='en'), rdflib.term.Literal('inventory number', lang='en'), rdflib.term.Literal('en'), rdflib.term.Literal('2021-11-19T00:00:00+00:00', datatype=rdflib.term.URIRef('http://www.w3.org/2001/XMLSchema#dateTime')), rdflib.term.Literal('cause of death', lang='en'), rdflib.term.Literal('place of death', lang='en'), rdflib.term.Literal('17200', datatype=rdflib.term.URIRef('http://www.w3.org/2001/XMLSchema#decimal')), rdflib.term.Literal('AIWARDS ID', lang='en'), rdflib.term.Literal('14th German Bundestag', lang='en'), rdflib.term.Literal('GND ID', lang='en'), rdflib.term.Literal('2011-01-01T00:00:00+00:00', datatype=rdflib.term.URIRef('http://www.w3.org/2001/XMLSchema#dateTime')), rdflib.term.Literal('Film.ru person ID', lang='en'), rdflib.term.Literal('National Library of Israel J9U ID', lang='en'), rdflib.term.Literal('duration', lang='en'), rdflib.term.Literal('SAPA ID', lang='en'), rdflib.term.Literal('2015-10-15T00:00:00+00:00', datatype=rdflib.term.URIRef('http://www.w3.org/2001/XMLSchema#dateTime')), rdflib.term.Literal('award received', lang='en'), rdflib.term.Literal('statement is subject of', lang='en'), rdflib.term.Literal('educated at', lang='en'), rdflib.term.Literal('inferred from', lang='en'), rdflib.term.Literal('replaces', lang='en'), rdflib.term.Literal('date of birth', lang='en'), rdflib.term.Literal('OnlyFans ID', lang='en'), rdflib.term.Literal('performing-arts.ch', lang='en'), rdflib.term.Literal('Wikimedia import URL', lang='en'), rdflib.term.Literal('2018-12-28T00:00:00+00:00', datatype=rdflib.term.URIRef('http://www.w3.org/2001/XMLSchema#dateTime')), rdflib.term.Literal('Discogs artist ID', lang='en'), rdflib.term.Literal('Twitter username', lang='en'), rdflib.term.Literal('IdRef', lang='en'), rdflib.term.Literal('IMDb ID', lang='en'), rdflib.term.Literal('3', datatype=rdflib.term.URIRef('http://www.w3.org/2001/XMLSchema#decimal')), rdflib.term.Literal('1.0.0'), rdflib.term.Literal('OpenSanctions ID', lang='en'), rdflib.term.Literal('full work available at URL', lang='en'), rdflib.term.Literal('candidacy in election', lang='en'), rdflib.term.Literal('FemBio ID', lang='en'), rdflib.term.Literal('FactGrid item ID', lang='en'), rdflib.term.Literal('2015-07-24T00:00:00+00:00', datatype=rdflib.term.URIRef('http://www.w3.org/2001/XMLSchema#dateTime')), rdflib.term.Literal('master of …', lang='en'), rdflib.term.Literal('WomenWriters ID', lang='en'), rdflib.term.Literal('Bibliothèque nationale de France ID', lang='en'), rdflib.term.Literal('deactivated account', lang='en'), rdflib.term.Literal('participant in', lang='en'), rdflib.term.Literal('ca'), rdflib.term.Literal('sourcing circumstances', lang='en'), rdflib.term.Literal('location', lang='en'), rdflib.term.Literal('documentation files at', lang='en'), rdflib.term.Literal('movement', lang='en'), rdflib.term.Literal('Fichier des personnes décédées ID (matchID)', lang='en'), rdflib.term.Literal('Eighth European Parliament', lang='en'), rdflib.term.Literal('Union List of Artist Names ID', lang='en'), rdflib.term.Literal('Penthouse Gold', lang='en'), rdflib.term.Literal('signature', lang='en'), rdflib.term.Literal('Young Pirates of Europe', lang='en'), rdflib.term.Literal('Deutsche Biographie (GND) ID', lang='en'), rdflib.term.Literal('electoral district', lang='en'), rdflib.term.Literal('Pornhub star ID', lang='en'), rdflib.term.Literal('official blog', lang='en'), rdflib.term.Literal('biography at the Bundestag of Germany URL', lang='en'), rdflib.term.Literal('Arnaldur Sigurðarson', lang='en'), rdflib.term.Literal('Radio Radicale person ID', lang='en'), rdflib.term.Literal('Reddit username', lang='en'), rdflib.term.Literal('birth name', lang='en'), rdflib.term.Literal('relevant date for copyright', lang='en'), rdflib.term.Literal('Musik-Sammler.de artist ID', lang='en'), rdflib.term.Literal('Category:German film directors', lang='en'), rdflib.term.Literal('Penthouse ID', lang='en'), rdflib.term.URIRef('http://wikiba.se/ontology#PreferredRank'), rdflib.term.Literal('wikiquote'), rdflib.term.Literal('tweet ID', lang='en'), rdflib.term.Literal('writing system', lang='en'), rdflib.term.Literal('2022-06-30T00:00:00+00:00', datatype=rdflib.term.URIRef('http://www.w3.org/2001/XMLSchema#dateTime')), rdflib.term.Literal('2017-01-01T00:00:00+00:00', datatype=rdflib.term.URIRef('http://www.w3.org/2001/XMLSchema#dateTime')), rdflib.term.Literal('position held', lang='en'), rdflib.term.Literal('Open Media Database person ID', lang='en'), rdflib.term.Literal('RedTube ID', lang='en'), rdflib.term.Literal('13th German Bundestag', lang='en'), rdflib.term.Literal('FAST ID', lang='en'), rdflib.term.Literal('Women Seeking Women', lang='en'), rdflib.term.Literal('YouPorn ID', lang='en'), rdflib.term.Literal('NNDB people ID', lang='en'), rdflib.term.Literal('Cinemathèque québécoise Linked Open Data', lang='en'), rdflib.term.Literal('2016-01-01T00:00:00+00:00', datatype=rdflib.term.URIRef('http://www.w3.org/2001/XMLSchema#dateTime')), rdflib.term.Literal('Prabook ID', lang='en'), rdflib.term.Literal('2012-01-01T00:00:00+00:00', datatype=rdflib.term.URIRef('http://www.w3.org/2001/XMLSchema#dateTime')), rdflib.term.Literal('French Wikipedia', lang='en'), rdflib.term.Literal('2015-08-21T00:00:00+00:00', datatype=rdflib.term.URIRef('http://www.w3.org/2001/XMLSchema#dateTime')), rdflib.term.Literal('2015-06-24T00:00:00+00:00', datatype=rdflib.term.URIRef('http://www.w3.org/2001/XMLSchema#dateTime')), rdflib.term.Literal('catalog code', lang='en'), rdflib.term.Literal('2015-04-03T00:00:00+00:00', datatype=rdflib.term.URIRef('http://www.w3.org/2001/XMLSchema#dateTime')), rdflib.term.Literal('sex or gender', lang='en'), rdflib.term.Literal('Nachlass', lang='en'), rdflib.term.Literal('parliamentary term', lang='en'), rdflib.term.Literal('elFilm person ID', lang='en'), rdflib.term.Literal('for work', lang='en'), rdflib.term.Literal('XBIZ', lang='en'), rdflib.term.Literal('subject named as', lang='en'), rdflib.term.Literal(\"audio recording of the subject's spoken voice\", lang='en'), rdflib.term.Literal('Kibler', lang='en'), rdflib.term.Literal('2021-01-03T00:00:00+00:00', datatype=rdflib.term.URIRef('http://www.w3.org/2001/XMLSchema#dateTime')), rdflib.term.Literal('issue', lang='en'), rdflib.term.Literal('number of subscribers', lang='en'), rdflib.term.Literal('6', datatype=rdflib.term.URIRef('http://www.w3.org/2001/XMLSchema#integer')), rdflib.term.Literal('22', datatype=rdflib.term.URIRef('http://www.w3.org/2001/XMLSchema#integer')), rdflib.term.URIRef('http://wikiba.se/ontology#String'), rdflib.term.Literal('mirror storage', lang='en'), rdflib.term.Literal('on focus list of Wikimedia project', lang='en'), rdflib.term.Literal('et'), rdflib.term.Literal('1928-02-01T00:00:00+00:00', datatype=rdflib.term.URIRef('http://www.w3.org/2001/XMLSchema#dateTime')), rdflib.term.Literal('2019-04-08T00:00:00+00:00', datatype=rdflib.term.URIRef('http://www.w3.org/2001/XMLSchema#dateTime')), rdflib.term.Literal('sexual orientation', lang='en'), rdflib.term.Literal('2017-02-10T00:00:00+00:00', datatype=rdflib.term.URIRef('http://www.w3.org/2001/XMLSchema#dateTime')), rdflib.term.Literal('Google Knowledge Graph', lang='en'), rdflib.term.Literal('unofficial', lang='en'), rdflib.term.Literal('14861745'), rdflib.term.Literal('946291', datatype=rdflib.term.URIRef('http://www.w3.org/2001/XMLSchema#decimal')), rdflib.term.Literal('84', datatype=rdflib.term.URIRef('http://www.w3.org/2001/XMLSchema#decimal')), rdflib.term.Literal('xHamster', lang='en'), rdflib.term.Literal('number of children', lang='en'), rdflib.term.Literal('image', lang='en'), rdflib.term.Literal('imported from Wikimedia project', lang='en'), rdflib.term.Literal('2013-10-07T00:00:00+00:00', datatype=rdflib.term.URIRef('http://www.w3.org/2001/XMLSchema#dateTime')), rdflib.term.Literal('part of', lang='en'), rdflib.term.Literal('2020-09-02T00:00:00+00:00', datatype=rdflib.term.URIRef('http://www.w3.org/2001/XMLSchema#dateTime')), rdflib.term.Literal('Google+ ID', lang='en'), rdflib.term.Literal('BuzzFeed News', lang='en'), rdflib.term.Literal('2020-06-08T00:00:00+00:00', datatype=rdflib.term.URIRef('http://www.w3.org/2001/XMLSchema#dateTime')), rdflib.term.Literal('2015-10-13T00:00:00+00:00', datatype=rdflib.term.URIRef('http://www.w3.org/2001/XMLSchema#dateTime')), rdflib.term.Literal('5', datatype=rdflib.term.URIRef('http://www.w3.org/2001/XMLSchema#integer')), rdflib.term.Literal('2016-01-06T00:00:00+00:00', datatype=rdflib.term.URIRef('http://www.w3.org/2001/XMLSchema#dateTime')), rdflib.term.Literal('International Standard Name Identifier', lang='en'), rdflib.term.URIRef('https://commons.wikimedia.org/'), rdflib.term.Literal('worldwide', lang='en'), rdflib.term.Literal('20th German Bundestag', lang='en'), rdflib.term.Literal('has quality', lang='en'), rdflib.term.Literal('ur'), rdflib.term.Literal('MediaWiki page ID', lang='en'), rdflib.term.Literal('Instagram username', lang='en'), rdflib.term.Literal('applies to jurisdiction', lang='en'), rdflib.term.Literal('level of description', lang='en'), rdflib.term.Literal('country of citizenship', lang='en'), rdflib.term.Literal('X-Rated Critics Organization', lang='en'), rdflib.term.Literal('member of political party', lang='en'), rdflib.term.Literal('1', datatype=rdflib.term.URIRef('http://www.w3.org/2001/XMLSchema#integer')), rdflib.term.Literal('1933-05-01T00:00:00+00:00', datatype=rdflib.term.URIRef('http://www.w3.org/2001/XMLSchema#dateTime')), rdflib.term.URIRef('https://www.dfb.de/news/detail/martens-verehrt-verfolgt-entmannt-223365/'), rdflib.term.Literal('it'), rdflib.term.Literal('Latin script', lang='en'), rdflib.term.Literal('nominated for', lang='en'), rdflib.term.Literal('ru'), rdflib.term.Literal('Die Bundeswehr', lang='en'), rdflib.term.Literal('2021-06-29T00:00:00+00:00', datatype=rdflib.term.URIRef('http://www.w3.org/2001/XMLSchema#dateTime')), rdflib.term.Literal('2021-01-02T00:00:00+00:00', datatype=rdflib.term.URIRef('http://www.w3.org/2001/XMLSchema#dateTime')), rdflib.term.Literal('floruit', lang='en'), rdflib.term.Literal('Nationale Thesaurus voor Auteurs ID', lang='en'), rdflib.term.Literal('public account', lang='en'), rdflib.term.Literal('archive URL', lang='en'), rdflib.term.Literal('partner in business or sport', lang='en'), rdflib.term.Literal('AVN person ID', lang='en'), rdflib.term.Literal('41365109'), rdflib.term.Literal('archive date', lang='en'), rdflib.term.Literal('IdRef ID', lang='en'), rdflib.term.Literal('1953-01-01T00:00:00+00:00', datatype=rdflib.term.URIRef('http://www.w3.org/2001/XMLSchema#dateTime')), rdflib.term.Literal('residence', lang='en'), rdflib.term.Literal('employer', lang='en'), rdflib.term.Literal('subreddit', lang='en'), rdflib.term.Literal('tr'), rdflib.term.Literal('German Football Association', lang='en'), rdflib.term.URIRef('http://wikiba.se/ontology#Monolingualtext'), rdflib.term.Literal('parliamentary group', lang='en'), rdflib.term.Literal('described at URL', lang='en'), rdflib.term.Literal('1947-01-01T00:00:00+00:00', datatype=rdflib.term.URIRef('http://www.w3.org/2001/XMLSchema#dateTime')), rdflib.term.Literal('ČSFD person ID', lang='en'), rdflib.term.Literal('work location', lang='en'), rdflib.term.Literal('2022-04-20T00:00:00+00:00', datatype=rdflib.term.URIRef('http://www.w3.org/2001/XMLSchema#dateTime')), rdflib.term.Literal('quantity', lang='en'), rdflib.term.Literal('Julia', lang='en'), rdflib.term.Literal('7', datatype=rdflib.term.URIRef('http://www.w3.org/2001/XMLSchema#integer')), rdflib.term.Literal('Brenda', lang='en'), rdflib.term.Literal('Artists of the World Online', lang='en'), rdflib.term.Literal('abgeordnetenwatch.de politician ID', lang='en'), rdflib.term.Literal('based on heuristic', lang='en'), rdflib.term.Literal('language of work or name', lang='en'), rdflib.term.Literal('conflict', lang='en'), rdflib.term.Literal('stated in', lang='en'), rdflib.term.Literal('languages spoken, written or signed', lang='en'), rdflib.term.Literal('DFK Paris person ID', lang='en'), rdflib.term.Literal('Find a Grave memorial ID', lang='en'), rdflib.term.Literal('Munzinger Personen', lang='en'), rdflib.term.Literal('CineMagia person ID', lang='en'), rdflib.term.Literal('WorldCat Identities ID', lang='en'), rdflib.term.Literal('Rheinland-Pfälzische Personendatenbank ID', lang='en'), rdflib.term.Literal('spouse', lang='en'), rdflib.term.Literal('2022-03-02T00:00:00+00:00', datatype=rdflib.term.URIRef('http://www.w3.org/2001/XMLSchema#dateTime')), rdflib.term.Literal('169831', datatype=rdflib.term.URIRef('http://www.w3.org/2001/XMLSchema#decimal')), rdflib.term.Literal('2022-04-29T00:00:00+00:00', datatype=rdflib.term.URIRef('http://www.w3.org/2001/XMLSchema#dateTime')), rdflib.term.Literal('Filmportal ID', lang='en'), rdflib.term.Literal('sport', lang='en'), rdflib.term.Literal('published in', lang='en'), rdflib.term.Literal('2018-08-21T00:00:00+00:00', datatype=rdflib.term.URIRef('http://www.w3.org/2001/XMLSchema#dateTime')), rdflib.term.Literal('unmarried partner', lang='en'), rdflib.term.Literal('2005-05-12T00:00:00+00:00', datatype=rdflib.term.URIRef('http://www.w3.org/2001/XMLSchema#dateTime')), rdflib.term.Literal('point in time', lang='en'), rdflib.term.Literal('writing language', lang='en'), rdflib.term.Literal('Library of Congress authority ID', lang='en'), rdflib.term.Literal('end time', lang='en'), rdflib.term.Literal('1936-12-01T00:00:00+00:00', datatype=rdflib.term.URIRef('http://www.w3.org/2001/XMLSchema#dateTime')), rdflib.term.Literal('1936-01-01T00:00:00+00:00', datatype=rdflib.term.URIRef('http://www.w3.org/2001/XMLSchema#dateTime')), rdflib.term.Literal('3384', datatype=rdflib.term.URIRef('http://www.w3.org/2001/XMLSchema#decimal')), rdflib.term.Literal('2016-04-25T00:00:00+00:00', datatype=rdflib.term.URIRef('http://www.w3.org/2001/XMLSchema#dateTime')), rdflib.term.Literal('2020-04-23T00:00:00+00:00', datatype=rdflib.term.URIRef('http://www.w3.org/2001/XMLSchema#dateTime')), rdflib.term.Literal('2020-06-01T00:00:00+00:00', datatype=rdflib.term.URIRef('http://www.w3.org/2001/XMLSchema#dateTime')), rdflib.term.Literal('Pinakothek artist ID', lang='en'), rdflib.term.Literal('1994 German federal election', lang='en'), rdflib.term.Literal('16900', datatype=rdflib.term.URIRef('http://www.w3.org/2001/XMLSchema#decimal')), rdflib.term.Literal('redirect', lang='en'), rdflib.term.Literal('Russian Wikipedia', lang='en'), rdflib.term.Literal('1959-01-01T00:00:00+00:00', datatype=rdflib.term.URIRef('http://www.w3.org/2001/XMLSchema#dateTime')), rdflib.term.Literal('2020-01-01T00:00:00+00:00', datatype=rdflib.term.URIRef('http://www.w3.org/2001/XMLSchema#dateTime')), rdflib.term.Literal('Juliane Löffler', lang='en'), rdflib.term.Literal('2020-07-04T00:00:00+00:00', datatype=rdflib.term.URIRef('http://www.w3.org/2001/XMLSchema#dateTime')), rdflib.term.Literal('renunciation', lang='en'), rdflib.term.Literal('2009-11-19T00:00:00+00:00', datatype=rdflib.term.URIRef('http://www.w3.org/2001/XMLSchema#dateTime')), rdflib.term.Literal('2018-08-26T00:00:00+00:00', datatype=rdflib.term.URIRef('http://www.w3.org/2001/XMLSchema#dateTime')), rdflib.term.Literal('2018-11-05T00:00:00+00:00', datatype=rdflib.term.URIRef('http://www.w3.org/2001/XMLSchema#dateTime')), rdflib.term.Literal('quotation', lang='en'), rdflib.term.Literal('2018-01-01T00:00:00+00:00', datatype=rdflib.term.URIRef('http://www.w3.org/2001/XMLSchema#dateTime')), rdflib.term.Literal('Kinopoisk person ID', lang='en'), rdflib.term.Literal('Freebase ID', lang='en'), rdflib.term.Literal('uk'), rdflib.term.Literal('circa', lang='en'), rdflib.term.Literal('15th German Bundestag', lang='en'), rdflib.term.Literal('member of', lang='en'), rdflib.term.Literal('2009-05-20T00:00:00+00:00', datatype=rdflib.term.URIRef('http://www.w3.org/2001/XMLSchema#dateTime')), rdflib.term.Literal('Adult Film Database actor ID', lang='en'), rdflib.term.Literal('2017-10-26T00:00:00+00:00', datatype=rdflib.term.URIRef('http://www.w3.org/2001/XMLSchema#dateTime')), rdflib.term.Literal('2017-04-28T00:00:00+00:00', datatype=rdflib.term.URIRef('http://www.w3.org/2001/XMLSchema#dateTime')), rdflib.term.Literal('section, verse, paragraph, or clause', lang='en'), rdflib.term.Literal('Fleshbot', lang='en'), rdflib.term.Literal('applies to part', lang='en'), rdflib.term.Literal('collection creator', lang='en'), rdflib.term.Literal('CLARA-ID', lang='en'), rdflib.term.Literal('AKL Online artist ID', lang='en'), rdflib.term.Literal('2021-01-14T00:00:00+00:00', datatype=rdflib.term.URIRef('http://www.w3.org/2001/XMLSchema#dateTime')), rdflib.term.Literal('Commons category', lang='en'), rdflib.term.Literal('2005-01-01T00:00:00+00:00', datatype=rdflib.term.URIRef('http://www.w3.org/2001/XMLSchema#dateTime')), rdflib.term.Literal('reason for deprecated rank', lang='en'), rdflib.term.Literal('place of birth', lang='en'), rdflib.term.Literal('date of death', lang='en'), rdflib.term.Literal('3', datatype=rdflib.term.URIRef('http://www.w3.org/2001/XMLSchema#integer')), rdflib.term.Literal('32nd AVN Awards', lang='en'), rdflib.term.Literal('2021-10-26T00:00:00+00:00', datatype=rdflib.term.URIRef('http://www.w3.org/2001/XMLSchema#dateTime')), rdflib.term.Literal('pt'), rdflib.term.Literal('vo'), rdflib.term.Literal('2021-07-02T00:00:00+00:00', datatype=rdflib.term.URIRef('http://www.w3.org/2001/XMLSchema#dateTime')), rdflib.term.Literal('ISNI', lang='en'), rdflib.term.Literal('EuroBabeIndex.com ID', lang='en'), rdflib.term.Literal('2021-11-01T00:00:00+00:00', datatype=rdflib.term.URIRef('http://www.w3.org/2001/XMLSchema#dateTime')), rdflib.term.Literal('RedTube', lang='en'), rdflib.term.Literal('Prinzzess', lang='en'), rdflib.term.Literal('author name string', lang='en'), rdflib.term.Literal('18th Landtag of Bavaria', lang='en'), rdflib.term.Literal('ar'), rdflib.term.Literal('serial number', lang='en'), rdflib.term.Literal('www.europarl.europa.eu', lang='en'), rdflib.term.Literal('Punjabi', lang='en'), rdflib.term.Literal('award rationale', lang='en'), rdflib.term.Literal('1939-04-01T00:00:00+00:00', datatype=rdflib.term.URIRef('http://www.w3.org/2001/XMLSchema#dateTime')), rdflib.term.Literal('AlloCiné person ID', lang='en'), rdflib.term.Literal('2009-07-02T00:00:00+00:00', datatype=rdflib.term.URIRef('http://www.w3.org/2001/XMLSchema#dateTime')), rdflib.term.Literal('2021-03-13T00:00:00+00:00', datatype=rdflib.term.URIRef('http://www.w3.org/2001/XMLSchema#dateTime')), rdflib.term.Literal('WBIS ID', lang='en'), rdflib.term.Literal('countries with longer than 50 years pma', lang='en'), rdflib.term.Literal('1', datatype=rdflib.term.URIRef('http://www.w3.org/2001/XMLSchema#decimal')), rdflib.term.Literal('title', lang='en'), rdflib.term.Literal('VIAF ID', lang='en'), rdflib.term.Literal('IAFD female performer ID', lang='en'), rdflib.term.Literal('page(s)', lang='en'), rdflib.term.Literal('elected in', lang='en'), rdflib.term.Literal('end cause', lang='en'), rdflib.term.Literal('abgeordnetenwatch.de', lang='en'), rdflib.term.Literal('replaced by', lang='en'), rdflib.term.Literal('2014 European Parliament election in Germany', lang='en'), rdflib.term.Literal('catalog', lang='en'), rdflib.term.Literal('YouTube channel ID', lang='en'), rdflib.term.Literal('number of works', lang='en'), rdflib.term.Literal('native language', lang='en'), rdflib.term.Literal('start time', lang='en'), rdflib.term.Literal('pseudonym', lang='en'), rdflib.term.Literal('Nachlässe in Austria ID', lang='en'), rdflib.term.Literal('Heather Starlet', lang='en'), rdflib.term.Literal('artist files at', lang='en'), rdflib.term.Literal('died less than 50 years ago', lang='en'), rdflib.term.Literal('Russia', lang='en'), rdflib.term.Literal('The New York Times', lang='en'), rdflib.term.Literal('Fandom article ID', lang='en'), rdflib.term.Literal('series ordinal', lang='en'), rdflib.term.Literal('Geni.com profile ID', lang='en'), rdflib.term.Literal('1948-01-01T00:00:00+00:00', datatype=rdflib.term.URIRef('http://www.w3.org/2001/XMLSchema#dateTime')), rdflib.term.Literal('Frick Art Reference Library Artist File ID', lang='en'), rdflib.term.Literal('number of viewers/listeners', lang='en'), rdflib.term.Literal('Hellmut Königshaus', lang='en'), rdflib.term.Literal('2015-03-08T00:00:00+00:00', datatype=rdflib.term.URIRef('http://www.w3.org/2001/XMLSchema#dateTime')), rdflib.term.Literal('Markus', lang='en'), rdflib.term.Literal('castingvideos ID', lang='en'), rdflib.term.Literal('Soviet Union', lang='en'), rdflib.term.Literal('height', lang='en'), rdflib.term.Literal('2014-07-16T00:00:00+00:00', datatype=rdflib.term.URIRef('http://www.w3.org/2001/XMLSchema#dateTime')), rdflib.term.Literal('MovieMeter person ID', lang='en'), rdflib.term.Literal('method for determining copyright status of a creator', lang='en'), rdflib.term.Literal('NUKAT ID', lang='en'), rdflib.term.Literal('of', lang='en'), rdflib.term.Literal('copyright status as a creator', lang='en'), rdflib.term.Literal('2015-08-24T00:00:00+00:00', datatype=rdflib.term.URIRef('http://www.w3.org/2001/XMLSchema#dateTime')), rdflib.term.Literal('number of episodes', lang='en'), rdflib.term.Literal('Sensi Pearl', lang='en'), rdflib.term.Literal('instance of', lang='en'), rdflib.term.Literal('AdoroCinema person ID', lang='en'), rdflib.term.Literal('PLWABN ID', lang='en'), rdflib.term.Literal('place of burial', lang='en'), rdflib.term.Literal('TMDB person ID', lang='en'), rdflib.term.Literal('fa'), rdflib.term.Literal('1992-01-01T00:00:00+00:00', datatype=rdflib.term.URIRef('http://www.w3.org/2001/XMLSchema#dateTime')), rdflib.term.Literal('NLP ID (old)', lang='en'), rdflib.term.Literal('Munzinger person ID', lang='en'), rdflib.term.Literal('2022-01-08T00:00:00+00:00', datatype=rdflib.term.URIRef('http://www.w3.org/2001/XMLSchema#dateTime')), rdflib.term.Literal('Willfried Penner', lang='en'), rdflib.term.Literal('Elonet person ID', lang='en'), rdflib.term.Literal('2014-01-21T00:00:00+00:00', datatype=rdflib.term.URIRef('http://www.w3.org/2001/XMLSchema#dateTime')), rdflib.term.Literal('2013-06-01T00:00:00+00:00', datatype=rdflib.term.URIRef('http://www.w3.org/2001/XMLSchema#dateTime')), rdflib.term.Literal('2010-12-28T00:00:00+00:00', datatype=rdflib.term.URIRef('http://www.w3.org/2001/XMLSchema#dateTime')), rdflib.term.Literal('Deutsche Synchronkartei actor ID', lang='en'), rdflib.term.Literal('Fichier des personnes décédées', lang='en'), rdflib.term.Literal('1994-11-10T00:00:00+00:00', datatype=rdflib.term.URIRef('http://www.w3.org/2001/XMLSchema#dateTime')), rdflib.term.Literal('2020-06-15T00:00:00+00:00', datatype=rdflib.term.URIRef('http://www.w3.org/2001/XMLSchema#dateTime')), rdflib.term.Literal('2015-06-25T00:00:00+00:00', datatype=rdflib.term.URIRef('http://www.w3.org/2001/XMLSchema#dateTime')), rdflib.term.Literal('1976-01-01T00:00:00+00:00', datatype=rdflib.term.URIRef('http://www.w3.org/2001/XMLSchema#dateTime')), rdflib.term.Literal('described by source', lang='en'), rdflib.term.Literal('2018-04-01T00:00:00+00:00', datatype=rdflib.term.URIRef('http://www.w3.org/2001/XMLSchema#dateTime')), rdflib.term.Literal('2004-01-01T00:00:00+00:00', datatype=rdflib.term.URIRef('http://www.w3.org/2001/XMLSchema#dateTime')), rdflib.term.Literal('pronunciation audio', lang='en'), rdflib.term.Literal('2020-12-01T00:00:00+00:00', datatype=rdflib.term.URIRef('http://www.w3.org/2001/XMLSchema#dateTime')), rdflib.term.Literal('32', datatype=rdflib.term.URIRef('http://www.w3.org/2001/XMLSchema#integer')), rdflib.term.Literal('Google Books ID', lang='en'), rdflib.term.Literal('4232', datatype=rdflib.term.URIRef('http://www.w3.org/2001/XMLSchema#decimal')), rdflib.term.Literal('2015-08-07T00:00:00+00:00', datatype=rdflib.term.URIRef('http://www.w3.org/2001/XMLSchema#dateTime')), rdflib.term.Literal('23', datatype=rdflib.term.URIRef('http://www.w3.org/2001/XMLSchema#integer')), rdflib.term.Literal('2008-05-21T00:00:00+00:00', datatype=rdflib.term.URIRef('http://www.w3.org/2001/XMLSchema#dateTime')), rdflib.term.Literal('107551', datatype=rdflib.term.URIRef('http://www.w3.org/2001/XMLSchema#decimal')), rdflib.term.Literal('Category:German film actresses', lang='en'), rdflib.term.Literal('2019-05-01T00:00:00+00:00', datatype=rdflib.term.URIRef('http://www.w3.org/2001/XMLSchema#dateTime'))]\n"
          ]
        }
      ]
    },
    {
      "cell_type": "code",
      "source": [
        "from visuals import *"
      ],
      "metadata": {
        "id": "Aq4jWqh7xEFf"
      },
      "execution_count": null,
      "outputs": []
    },
    {
      "cell_type": "code",
      "source": [
        "plot_graph_force_directed(G)"
      ],
      "metadata": {
        "colab": {
          "base_uri": "https://localhost:8080/",
          "height": 288
        },
        "id": "OkXzKrgPxKye",
        "outputId": "a58fb4e9-61fe-4e59-ff40-ea47827d9894"
      },
      "execution_count": null,
      "outputs": [
        {
          "output_type": "error",
          "ename": "NameError",
          "evalue": "ignored",
          "traceback": [
            "\u001b[0;31m---------------------------------------------------------------------------\u001b[0m",
            "\u001b[0;31mNameError\u001b[0m                                 Traceback (most recent call last)",
            "\u001b[0;32m<ipython-input-28-be30ebe312cd>\u001b[0m in \u001b[0;36m<module>\u001b[0;34m\u001b[0m\n\u001b[0;32m----> 1\u001b[0;31m \u001b[0mplot_graph_force_directed\u001b[0m\u001b[0;34m(\u001b[0m\u001b[0mG\u001b[0m\u001b[0;34m)\u001b[0m\u001b[0;34m\u001b[0m\u001b[0;34m\u001b[0m\u001b[0m\n\u001b[0m",
            "\u001b[0;32m/content/drive/MyDrive/Colab Notebooks/kgbuilder/visuals.py\u001b[0m in \u001b[0;36mplot_graph_force_directed\u001b[0;34m(G)\u001b[0m\n\u001b[1;32m     82\u001b[0m \u001b[0;34m\u001b[0m\u001b[0m\n\u001b[1;32m     83\u001b[0m     \u001b[0;31m# plot the force-directed graph\u001b[0m\u001b[0;34m\u001b[0m\u001b[0;34m\u001b[0m\u001b[0;34m\u001b[0m\u001b[0m\n\u001b[0;32m---> 84\u001b[0;31m     \u001b[0mforce_graph\u001b[0m \u001b[0;34m=\u001b[0m \u001b[0mgraphplot\u001b[0m\u001b[0;34m(\u001b[0m\u001b[0mforcedirected\u001b[0m\u001b[0;34m,\u001b[0m \u001b[0mconnect_edges\u001b[0m\u001b[0;34m(\u001b[0m\u001b[0mforcedirected\u001b[0m\u001b[0;34m,\u001b[0m\u001b[0medges\u001b[0m\u001b[0;34m)\u001b[0m\u001b[0;34m,\u001b[0m \u001b[0;34m\"Force-directed\"\u001b[0m\u001b[0;34m)\u001b[0m\u001b[0;34m\u001b[0m\u001b[0;34m\u001b[0m\u001b[0m\n\u001b[0m\u001b[1;32m     85\u001b[0m \u001b[0;34m\u001b[0m\u001b[0m\n\u001b[1;32m     86\u001b[0m     \u001b[0;31m# display the plot\u001b[0m\u001b[0;34m\u001b[0m\u001b[0;34m\u001b[0m\u001b[0;34m\u001b[0m\u001b[0m\n",
            "\u001b[0;31mNameError\u001b[0m: name 'fd' is not defined"
          ]
        }
      ]
    }
  ]
}